{
  "nbformat": 4,
  "nbformat_minor": 0,
  "metadata": {
    "colab": {
      "name": "TF_part1.ipynb",
      "provenance": [],
      "collapsed_sections": []
    },
    "kernelspec": {
      "name": "python3",
      "display_name": "Python 3"
    },
    "language_info": {
      "name": "python"
    },
    "accelerator": "GPU"
  },
  "cells": [
    {
      "cell_type": "code",
      "metadata": {
        "colab": {
          "base_uri": "https://localhost:8080/"
        },
        "id": "vMYahoLK40P2",
        "outputId": "609d6f9a-978f-49de-88f1-c1db588dbaa9"
      },
      "source": [
        "import tensorflow as tf\n",
        "print(tf.__version__)"
      ],
      "execution_count": 2,
      "outputs": [
        {
          "output_type": "stream",
          "name": "stdout",
          "text": [
            "2.6.0\n"
          ]
        }
      ]
    },
    {
      "cell_type": "code",
      "metadata": {
        "colab": {
          "base_uri": "https://localhost:8080/"
        },
        "id": "KjQuZ3Tz6HoS",
        "outputId": "a717e973-545c-4c9a-958e-82786bf43604"
      },
      "source": [
        "import keras as ks\n",
        "print(ks.__version__)"
      ],
      "execution_count": 3,
      "outputs": [
        {
          "output_type": "stream",
          "name": "stdout",
          "text": [
            "2.6.0\n"
          ]
        }
      ]
    },
    {
      "cell_type": "markdown",
      "metadata": {
        "id": "-LwAFdSvb5nr"
      },
      "source": [
        "**PROBLEM 2**"
      ]
    },
    {
      "cell_type": "code",
      "metadata": {
        "colab": {
          "base_uri": "https://localhost:8080/"
        },
        "id": "ykG-_cdi81G7",
        "outputId": "1703ff75-2e7e-4ead-f2ac-a45b7ac8e136"
      },
      "source": [
        "x = tf.constant([100, 101, 102, 103, 104, 105, 106, 107, 108, 109])\n",
        "y = tf.constant([34, 28, 45, 67, 89, 93, 24, 49, 11, 7])\n",
        "z = tf.add(x,y)\n",
        "print(z)"
      ],
      "execution_count": 26,
      "outputs": [
        {
          "output_type": "stream",
          "name": "stdout",
          "text": [
            "tf.Tensor([134 129 147 170 193 198 130 156 119 116], shape=(10,), dtype=int32)\n"
          ]
        }
      ]
    },
    {
      "cell_type": "markdown",
      "metadata": {
        "id": "HVJ5yfehcEuG"
      },
      "source": [
        "**PROBLEM 3**"
      ]
    },
    {
      "cell_type": "code",
      "metadata": {
        "colab": {
          "base_uri": "https://localhost:8080/"
        },
        "id": "0J7gl5CmcSRh",
        "outputId": "1913e299-e2bb-46ab-950c-fcd84af9402f"
      },
      "source": [
        "x1 = tf.constant([ [ 1, 2, 3, 4], [5, 6, 7, 8] ])\n",
        "z = tf.stack([x1, x1])\n",
        "print(z)\n",
        "print(z.shape)"
      ],
      "execution_count": 30,
      "outputs": [
        {
          "output_type": "stream",
          "name": "stdout",
          "text": [
            "tf.Tensor(\n",
            "[[[1 2 3 4]\n",
            "  [5 6 7 8]]\n",
            "\n",
            " [[1 2 3 4]\n",
            "  [5 6 7 8]]], shape=(2, 2, 4), dtype=int32)\n",
            "(2, 2, 4)\n"
          ]
        }
      ]
    },
    {
      "cell_type": "markdown",
      "metadata": {
        "id": "EOPQBEjFds2s"
      },
      "source": [
        "**PROBLEM 4**"
      ]
    },
    {
      "cell_type": "code",
      "metadata": {
        "colab": {
          "base_uri": "https://localhost:8080/"
        },
        "id": "LjHzJGTHcTH4",
        "outputId": "0e8c3533-cd05-4003-912f-33de2ac36f3c"
      },
      "source": [
        "y = tf.stack([x1])\n",
        "print(y)\n",
        "print(y.shape)\n"
      ],
      "execution_count": 31,
      "outputs": [
        {
          "output_type": "stream",
          "name": "stdout",
          "text": [
            "tf.Tensor(\n",
            "[[[1 2 3 4]\n",
            "  [5 6 7 8]]], shape=(1, 2, 4), dtype=int32)\n",
            "(1, 2, 4)\n"
          ]
        }
      ]
    },
    {
      "cell_type": "markdown",
      "metadata": {
        "id": "O9pttnpreXNB"
      },
      "source": [
        "**PROBLEM 5**"
      ]
    },
    {
      "cell_type": "code",
      "metadata": {
        "id": "36rP1EkCcToM"
      },
      "source": [
        ""
      ],
      "execution_count": null,
      "outputs": []
    },
    {
      "cell_type": "code",
      "metadata": {
        "colab": {
          "base_uri": "https://localhost:8080/"
        },
        "id": "OZAIFIDceozp",
        "outputId": "3e28be67-38d9-4ea8-ce6d-811160dcc742"
      },
      "source": [
        "x1 = tf.constant([ [ 1, 2, 3, 4], [5, 6, 7, 8], [9, 10, 11, 12] ])\n",
        "z = tf.reshape(x1, [6,2])\n",
        "print(z)\n",
        "print(z.shape)"
      ],
      "execution_count": 33,
      "outputs": [
        {
          "output_type": "stream",
          "name": "stdout",
          "text": [
            "tf.Tensor(\n",
            "[[ 1  2]\n",
            " [ 3  4]\n",
            " [ 5  6]\n",
            " [ 7  8]\n",
            " [ 9 10]\n",
            " [11 12]], shape=(6, 2), dtype=int32)\n",
            "(6, 2)\n"
          ]
        }
      ]
    },
    {
      "cell_type": "markdown",
      "metadata": {
        "id": "hWZRglwffuEm"
      },
      "source": [
        "**PROBLEM 6**"
      ]
    },
    {
      "cell_type": "code",
      "metadata": {
        "id": "CUFG59zeen7b"
      },
      "source": [
        "a = 1.12\n",
        "b = 2.34\n",
        "c = 0.72\n",
        "d = 0.81\n",
        "f = 19.83"
      ],
      "execution_count": 34,
      "outputs": []
    },
    {
      "cell_type": "code",
      "metadata": {
        "colab": {
          "base_uri": "https://localhost:8080/"
        },
        "id": "Li-cEJtA81hN",
        "outputId": "b9721297-e5b5-4f5a-e9b1-695563bca925"
      },
      "source": [
        "t = tf.constant(1+a/b+c/f**2)\n",
        "print(t)"
      ],
      "execution_count": 37,
      "outputs": [
        {
          "output_type": "stream",
          "name": "stdout",
          "text": [
            "tf.Tensor(1.4804635, shape=(), dtype=float32)\n"
          ]
        }
      ]
    },
    {
      "cell_type": "code",
      "metadata": {
        "colab": {
          "base_uri": "https://localhost:8080/"
        },
        "id": "768I84HD82No",
        "outputId": "23513738-350c-43aa-e3be-f12ee9be26c6"
      },
      "source": [
        "s = tf.constant((b-a)/(d-c))\n",
        "print(s)"
      ],
      "execution_count": 39,
      "outputs": [
        {
          "output_type": "stream",
          "name": "stdout",
          "text": [
            "tf.Tensor(13.555555, shape=(), dtype=float32)\n"
          ]
        }
      ]
    },
    {
      "cell_type": "code",
      "metadata": {
        "colab": {
          "base_uri": "https://localhost:8080/"
        },
        "id": "uvNIPxdjhbCg",
        "outputId": "ec1aed1e-1aa3-4e9a-c16e-0c70862a9f0a"
      },
      "source": [
        "r = tf.constant(1/ (1/a + 1/b + 1/c + 1/d ))\n",
        "print(r)\n"
      ],
      "execution_count": 40,
      "outputs": [
        {
          "output_type": "stream",
          "name": "stdout",
          "text": [
            "tf.Tensor(0.25357127, shape=(), dtype=float32)\n"
          ]
        }
      ]
    },
    {
      "cell_type": "code",
      "metadata": {
        "colab": {
          "base_uri": "https://localhost:8080/"
        },
        "id": "7eYh07B399I4",
        "outputId": "e151c145-c76f-4040-9e19-ffc7bb6d2e52"
      },
      "source": [
        "y = a * b * f**2 / (2 * c)\n",
        "print(y)"
      ],
      "execution_count": 43,
      "outputs": [
        {
          "output_type": "stream",
          "name": "stdout",
          "text": [
            "715.676598\n"
          ]
        }
      ]
    },
    {
      "cell_type": "markdown",
      "metadata": {
        "id": "V8gd-uwxiF37"
      },
      "source": [
        "**PROBLEM 7**"
      ]
    },
    {
      "cell_type": "code",
      "metadata": {
        "id": "B7hLp-IO9q8e"
      },
      "source": [
        "# ASSOCIATIVE PROPERTY"
      ],
      "execution_count": null,
      "outputs": []
    },
    {
      "cell_type": "code",
      "metadata": {
        "id": "I9pLvaH3iOeg"
      },
      "source": [
        "A = tf.constant([ [ 4, -2, 1], [6, 8, -5], [7, 9, 10] ])\n",
        "# print(A)\n"
      ],
      "execution_count": 45,
      "outputs": []
    },
    {
      "cell_type": "code",
      "metadata": {
        "id": "14J15BGTioHg"
      },
      "source": [
        "B = tf.constant([ [ 6, 9, -4], [7, 5, 3], [-8, 2, 1] ])\n",
        "# print(B)\n"
      ],
      "execution_count": 47,
      "outputs": []
    },
    {
      "cell_type": "code",
      "metadata": {
        "id": "Su3NQ12Eiksx"
      },
      "source": [
        "C = tf.constant([ [ -4, -5, 2], [10, 6, 1], [3, -9, 8] ])\n",
        "# print(C)\n"
      ],
      "execution_count": 49,
      "outputs": []
    },
    {
      "cell_type": "code",
      "metadata": {
        "colab": {
          "base_uri": "https://localhost:8080/"
        },
        "id": "x5eWIVEiiMHb",
        "outputId": "a17ea125-5de9-48d7-b22b-1d9dce5d7df8"
      },
      "source": [
        "D = tf.matmul(A, B+C)\n",
        "print(D)"
      ],
      "execution_count": 52,
      "outputs": [
        {
          "output_type": "stream",
          "name": "stdout",
          "text": [
            "tf.Tensor(\n",
            "[[-31 -13  -7]\n",
            " [173 147 -25]\n",
            " [117  57 112]], shape=(3, 3), dtype=int32)\n"
          ]
        }
      ]
    },
    {
      "cell_type": "code",
      "metadata": {
        "colab": {
          "base_uri": "https://localhost:8080/"
        },
        "id": "BYFMynb19rTg",
        "outputId": "81650fca-3302-405e-ba85-ec54a2dff045"
      },
      "source": [
        "E = tf.matmul(A,B) + tf.matmul(A,C)\n",
        "print(E)"
      ],
      "execution_count": 54,
      "outputs": [
        {
          "output_type": "stream",
          "name": "stdout",
          "text": [
            "tf.Tensor(\n",
            "[[-31 -13  -7]\n",
            " [173 147 -25]\n",
            " [117  57 112]], shape=(3, 3), dtype=int32)\n"
          ]
        }
      ]
    },
    {
      "cell_type": "code",
      "metadata": {
        "id": "e87xmVGr_RGR"
      },
      "source": [
        "# DISTRIBUTIVE PROPERTY"
      ],
      "execution_count": 55,
      "outputs": []
    },
    {
      "cell_type": "code",
      "metadata": {
        "colab": {
          "base_uri": "https://localhost:8080/"
        },
        "id": "3chd-lCV_RdK",
        "outputId": "b8b97843-f8e0-4109-9019-bd40250510f7"
      },
      "source": [
        "F = tf.matmul(tf.matmul(A,B), C)\n",
        "print(F)"
      ],
      "execution_count": 56,
      "outputs": [
        {
          "output_type": "stream",
          "name": "stdout",
          "text": [
            "tf.Tensor(\n",
            "[[ 209  347 -136]\n",
            " [ 297 -111  308]\n",
            " [1207  562  250]], shape=(3, 3), dtype=int32)\n"
          ]
        }
      ]
    },
    {
      "cell_type": "code",
      "metadata": {
        "colab": {
          "base_uri": "https://localhost:8080/"
        },
        "id": "SrUnqWCEAh4x",
        "outputId": "665243b1-5995-4c1e-bc4a-c6253de7e651"
      },
      "source": [
        "G = tf.matmul(A, tf.matmul(B, C))\n",
        "print(G)"
      ],
      "execution_count": 58,
      "outputs": [
        {
          "output_type": "stream",
          "name": "stdout",
          "text": [
            "tf.Tensor(\n",
            "[[ 209  347 -136]\n",
            " [ 297 -111  308]\n",
            " [1207  562  250]], shape=(3, 3), dtype=int32)\n"
          ]
        }
      ]
    }
  ]
}