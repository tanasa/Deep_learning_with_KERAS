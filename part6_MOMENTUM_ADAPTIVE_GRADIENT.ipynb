{
 "cells": [
  {
   "cell_type": "code",
   "execution_count": 153,
   "metadata": {
    "id": "Ku6fQEsqJPhs"
   },
   "outputs": [],
   "source": [
    "# Commented out IPython magic to ensure Python compatibility.\n",
    "import numpy as np\n",
    "import pandas as pd\n",
    "from sklearn import datasets\n",
    "from sklearn.model_selection import train_test_split\n",
    "from sklearn import preprocessing\n",
    "from sklearn.metrics import confusion_matrix, accuracy_score\n",
    "import keras as keras\n",
    "import math\n",
    "from keras.models import Sequential\n",
    "from keras.layers import Dense, Activation\n",
    "from datascience import *\n",
    "import matplotlib.pyplot as plt\n",
    "from sklearn.model_selection import train_test_split\n",
    "# %matplotlib inline"
   ]
  },
  {
   "cell_type": "code",
   "execution_count": 154,
   "metadata": {
    "id": "B8eEVSo-PkpK"
   },
   "outputs": [],
   "source": [
    "def z(x,y) : \n",
    "    z = -1 * math.sqrt(25 - (x-2)**2 - (y-3)**2)\n",
    "    return(z)\n",
    "\n",
    "def dz_dx(x,y) : \n",
    "    res = (x-2) / math.sqrt(25 - (x-2)**2 - (y-3)**2)\n",
    "    return(res)\n",
    "\n",
    "def dz_dy(x,y) : \n",
    "    res = (y-3) / math.sqrt(25 - (x-2)**2 - (y-3)**2)\n",
    "    return(res)"
   ]
  },
  {
   "cell_type": "code",
   "execution_count": 42,
   "metadata": {
    "id": "E9SaSRHiQ2fr"
   },
   "outputs": [],
   "source": [
    "xHistory = np.tile(np.float32(0), maxLimit)\n",
    "yHistory = np.tile(np.float32(0), maxLimit)"
   ]
  },
  {
   "cell_type": "code",
   "execution_count": 155,
   "metadata": {
    "id": "-3dh8zPAQLD2"
   },
   "outputs": [],
   "source": [
    "learning_rate = 0.01\n",
    "xStart = 0.3\n",
    "yStart = 0.3\n",
    "maxLimit = 5000"
   ]
  },
  {
   "cell_type": "code",
   "execution_count": 156,
   "metadata": {
    "id": "Inl5o4XpR1kW"
   },
   "outputs": [],
   "source": [
    "converged = False\n",
    "i = -1\n",
    "epsilon = 0.000001"
   ]
  },
  {
   "cell_type": "code",
   "execution_count": null,
   "metadata": {
    "id": "lrtNV7hRR15M"
   },
   "outputs": [],
   "source": []
  },
  {
   "cell_type": "code",
   "execution_count": 157,
   "metadata": {
    "colab": {
     "base_uri": "https://localhost:8080/"
    },
    "id": "4yL3Lk3vQLgS",
    "outputId": "1a887eae-1551-4aee-eac0-d67fcc3cdc95"
   },
   "outputs": [
    {
     "name": "stdout",
     "output_type": "stream",
     "text": [
      "Number of steps taken to converge= 0 \n",
      "\n"
     ]
    }
   ],
   "source": [
    "# for i in range(1,maxLimit):\n",
    "while (not converged): \n",
    "      xHistory[i] = xStart\n",
    "      yHistory[i] = yStart\n",
    "\n",
    "      deltaW = dz_dx(xStart, yStart)\n",
    "      deltaB = dz_dy(xStart, yStart) \n",
    "\n",
    "      xStart = xStart - learning_rate * deltaW \n",
    "      yStart = yStart - learning_rate * deltaB\n",
    "\n",
    "      xDifference = xStart - xHistory[i]\n",
    "      yDifference = yStart - yHistory[i]\n",
    "\n",
    "      if (( xDifference < epsilon ) & (yDifference < epsilon )):\n",
    "           converged = True\n",
    "           print(\"Number of steps taken to converge=\",i+1,\"\\n\")"
   ]
  },
  {
   "cell_type": "code",
   "execution_count": 71,
   "metadata": {
    "colab": {
     "base_uri": "https://localhost:8080/"
    },
    "id": "yUgljcogTnIr",
    "outputId": "5d6ee459-3a48-472c-8f93-faf7ecb19737"
   },
   "outputs": [
    {
     "name": "stdout",
     "output_type": "stream",
     "text": [
      "Last Value of x =  1.999657 \n",
      "\n",
      "Last Value of x =  2.9994555 \n",
      "\n"
     ]
    }
   ],
   "source": [
    "print(\"Last Value of x = \", xHistory[i],\"\\n\")\n",
    "print(\"Last Value of x = \", yHistory[i],\"\\n\")"
   ]
  },
  {
   "cell_type": "code",
   "execution_count": 72,
   "metadata": {
    "colab": {
     "base_uri": "https://localhost:8080/",
     "height": 283
    },
    "id": "WWliVWgtQL1i",
    "outputId": "9e4ee6fb-7b98-487a-8db9-01a9b7d467c6"
   },
   "outputs": [
    {
     "data": {
      "text/plain": [
       "[<matplotlib.lines.Line2D at 0x7f66e285f410>]"
      ]
     },
     "execution_count": 72,
     "metadata": {},
     "output_type": "execute_result"
    },
    {
     "data": {
      "image/png": "[encoded data removed]",
      "text/plain": [
       "<Figure size 432x288 with 1 Axes>"
      ]
     },
     "metadata": {
      "needs_background": "light"
     },
     "output_type": "display_data"
    }
   ],
   "source": [
    "fig = plt.figure()\n",
    "ax = plt.axes()\n",
    "\n",
    "ax.plot(xHistory)\n",
    "ax.plot(yHistory)"
   ]
  },
  {
   "cell_type": "code",
   "execution_count": 108,
   "metadata": {
    "id": "YHxDsH5oUS1_"
   },
   "outputs": [],
   "source": []
  },
  {
   "cell_type": "code",
   "execution_count": 146,
   "metadata": {
    "id": "exUl-jcjia_x"
   },
   "outputs": [],
   "source": [
    "xHistory = np.tile(np.float32(0), maxLimit)\n",
    "yHistory = np.tile(np.float32(0), maxLimit)"
   ]
  },
  {
   "cell_type": "code",
   "execution_count": 147,
   "metadata": {
    "id": "XGu8ThoWiZfK"
   },
   "outputs": [],
   "source": [
    "learning_rate = 0.01\n",
    "xStart = 0.3\n",
    "yStart = 0.3\n",
    "maxLimit = 5000\n",
    "\n",
    "converged = False\n",
    "i = -1\n",
    "epsilon = 0.000001\n",
    "\n",
    "xHistory = np.tile(np.float32(0), maxLimit)\n",
    "yHistory = np.tile(np.float32(0), maxLimit)"
   ]
  },
  {
   "cell_type": "code",
   "execution_count": 148,
   "metadata": {
    "id": "55mwbSmqbaHG"
   },
   "outputs": [],
   "source": [
    "gamma = 0.9\n",
    "update = 0"
   ]
  },
  {
   "cell_type": "code",
   "execution_count": 149,
   "metadata": {
    "id": "PBhPqEq5bayP"
   },
   "outputs": [],
   "source": [
    "Xupdate = np.tile(np.float32(0), maxLimit)\n",
    "Yupdate = np.tile(np.float32(0), maxLimit)"
   ]
  },
  {
   "cell_type": "code",
   "execution_count": 150,
   "metadata": {
    "colab": {
     "base_uri": "https://localhost:8080/"
    },
    "id": "yDgzpMDYUTSX",
    "outputId": "403a4dea-1987-4a7e-c256-3bf0d0dbe634"
   },
   "outputs": [
    {
     "name": "stdout",
     "output_type": "stream",
     "text": [
      "Number of steps taken to converge= 4197 \n",
      "\n"
     ]
    }
   ],
   "source": [
    "# for i in range(1,maxLimit):\n",
    "while (not converged): \n",
    "      i = i + 1\n",
    "      xHistory[i] = xStart\n",
    "      yHistory[i] = yStart\n",
    "\n",
    "      Xgradient = dz_dx(xStart, yStart)\n",
    "      Ygradient = dz_dy(xStart, yStart) \n",
    "\n",
    "      Xupdate[i] = (gamma * Xupdate[i]) + (learning_rate * Xgradient)\n",
    "      Yupdate[i] = (gamma * Yupdate[i]) + (learning_rate * Ygradient)      \n",
    "\n",
    "      xStart = xStart - Xupdate[i]\n",
    "      yStart = yStart - Yupdate[i]\n",
    "\n",
    "      xDifference = xStart - xHistory[i]\n",
    "      yDifference = yStart - yHistory[i]\n",
    "\n",
    "      if (( xDifference < epsilon ) & (yDifference < epsilon )):\n",
    "           converged = True\n",
    "           print(\"Number of steps taken to converge=\",i+1,\"\\n\")"
   ]
  },
  {
   "cell_type": "code",
   "execution_count": 151,
   "metadata": {
    "colab": {
     "base_uri": "https://localhost:8080/"
    },
    "id": "aLfZZgcolcRf",
    "outputId": "9990c426-653e-4c94-90f8-8171e10dc01d"
   },
   "outputs": [
    {
     "name": "stdout",
     "output_type": "stream",
     "text": [
      "Last Value of x =  1.999657 \n",
      "\n",
      "Last Value of x =  2.9994555 \n",
      "\n"
     ]
    }
   ],
   "source": [
    "print(\"Last Value of x = \", xHistory[i],\"\\n\")\n",
    "print(\"Last Value of x = \", yHistory[i],\"\\n\")"
   ]
  },
  {
   "cell_type": "code",
   "execution_count": 152,
   "metadata": {
    "colab": {
     "base_uri": "https://localhost:8080/",
     "height": 283
    },
    "id": "YnnpKwkedcLs",
    "outputId": "2b19b696-2b32-463f-ce22-4f4311af6a0b"
   },
   "outputs": [
    {
     "data": {
      "text/plain": [
       "[<matplotlib.lines.Line2D at 0x7f66de6fc710>]"
      ]
     },
     "execution_count": 152,
     "metadata": {},
     "output_type": "execute_result"
    },
    {
     "data": {
      "image/png": "[encoded data removed]",
      "text/plain": [
       "<Figure size 432x288 with 1 Axes>"
      ]
     },
     "metadata": {
      "needs_background": "light"
     },
     "output_type": "display_data"
    }
   ],
   "source": [
    "fig = plt.figure()\n",
    "ax = plt.axes()\n",
    "\n",
    "ax.plot(xHistory)\n",
    "ax.plot(yHistory)"
   ]
  },
  {
   "cell_type": "code",
   "execution_count": null,
   "metadata": {
    "id": "xY4mQVWpY0AX"
   },
   "outputs": [],
   "source": []
  },
  {
   "cell_type": "code",
   "execution_count": null,
   "metadata": {
    "id": "kLOJ-lBVY0oF"
   },
   "outputs": [],
   "source": []
  },
  {
   "cell_type": "code",
   "execution_count": null,
   "metadata": {
    "id": "KXh8zWdwUTlP"
   },
   "outputs": [],
   "source": []
  },
  {
   "cell_type": "code",
   "execution_count": null,
   "metadata": {
    "id": "gr6oR_1YUT4H"
   },
   "outputs": [],
   "source": []
  }
 ],
 "metadata": {
  "colab": {
   "collapsed_sections": [],
   "name": "hw6_v2.ipynb",
   "provenance": []
  },
  "kernelspec": {
   "display_name": "Python 3 (ipykernel)",
   "language": "python",
   "name": "python3"
  },
  "language_info": {
   "codemirror_mode": {
    "name": "ipython",
    "version": 3
   },
   "file_extension": ".py",
   "mimetype": "text/x-python",
   "name": "python",
   "nbconvert_exporter": "python",
   "pygments_lexer": "ipython3",
   "version": "3.9.5"
  }
 },
 "nbformat": 4,
 "nbformat_minor": 1
}
