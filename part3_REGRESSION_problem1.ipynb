{
 "cells": [
  {
   "cell_type": "code",
   "execution_count": 10,
   "metadata": {
    "colab": {
     "base_uri": "https://localhost:8080/",
     "height": 301
    },
    "id": "zUiB-nS7yRZI",
    "outputId": "b963c529-6071-47ad-d303-3bd7909887b3"
   },
   "outputs": [
    {
     "name": "stdout",
     "output_type": "stream",
     "text": [
      "<class 'numpy.ndarray'>\n",
      "<class 'numpy.ndarray'>\n"
     ]
    },
    {
     "data": {
      "image/png": "[encoded data removed]",
      "text/plain": [
       "<Figure size 432x288 with 1 Axes>"
      ]
     },
     "metadata": {
      "needs_background": "light"
     },
     "output_type": "display_data"
    }
   ],
   "source": [
    "import numpy as np \n",
    "import matplotlib.pyplot as plt\n",
    "from sklearn import linear_model \n",
    " \n",
    "n_samples = 30 \n",
    "train_x = np.linspace(0,20,n_samples) \n",
    "train_y = 3.7 * train_x + 14 + 4 * np.random.randn(n_samples) \n",
    " \n",
    "plt.plot(train_x, train_y,'o') \n",
    "\n",
    "print(type(train_x))\n",
    "print(type(train_y))\n",
    "\n",
    "x = train_x.reshape(-1, 1) \n",
    "y = train_y.reshape(-1, 1)"
   ]
  },
  {
   "cell_type": "code",
   "execution_count": 11,
   "metadata": {
    "colab": {
     "base_uri": "https://localhost:8080/"
    },
    "id": "7OrhLOQG21pa",
    "outputId": "c5a61a9f-04db-4eff-cae4-69a4e3c66a5d"
   },
   "outputs": [
    {
     "name": "stdout",
     "output_type": "stream",
     "text": [
      "[15.90372921]\n",
      "[[3.4695271]]\n"
     ]
    }
   ],
   "source": [
    "linreg = linear_model.LinearRegression()\n",
    "linreg.fit(x, y) \n",
    "print(linreg.intercept_)\n",
    "print(linreg.coef_)"
   ]
  },
  {
   "cell_type": "code",
   "execution_count": 61,
   "metadata": {
    "id": "Lx6Hb9ZZdcZ_"
   },
   "outputs": [],
   "source": [
    "\n"
   ]
  },
  {
   "cell_type": "code",
   "execution_count": 20,
   "metadata": {
    "colab": {
     "base_uri": "https://localhost:8080/"
    },
    "id": "R_Z4t0NT22By",
    "outputId": "534914c5-938a-4d07-d0e7-557c47d1d4d8"
   },
   "outputs": [
    {
     "name": "stdout",
     "output_type": "stream",
     "text": [
      "Model: \"sequential_15\"\n",
      "_________________________________________________________________\n",
      "Layer (type)                 Output Shape              Param #   \n",
      "=================================================================\n",
      "dense_15 (Dense)             (None, 1)                 2         \n",
      "=================================================================\n",
      "Total params: 2\n",
      "Trainable params: 2\n",
      "Non-trainable params: 0\n",
      "_________________________________________________________________\n",
      "Weight + Bias =  [array([[0.61599547]], dtype=float32), array([0.44171593], dtype=float32)]\n"
     ]
    }
   ],
   "source": [
    "import keras \n",
    "from keras.models import Sequential \n",
    "from keras.layers import Dense\n",
    "\n",
    "xScale = x/100\n",
    "#print(xScale)\n",
    "\n",
    "yScale = y/100\n",
    "#print(yScale)\n",
    "\n",
    "model = Sequential()\n",
    "model.add(Dense(1, input_dim=1, kernel_initializer = \"normal\", activation = \"linear\"))\n",
    "\n",
    "# compile the MODEL\n",
    "model.compile(loss = \"mean_squared_error\", optimizer = \"adam\", metrics = [\"mse\"])\n",
    "\n",
    "model.summary()\n",
    "\n",
    "# epochs = 10000\n",
    "epochs = 1000\n",
    "hist = model.fit(xScale, yScale, epochs = epochs, verbose=0)\n",
    "\n",
    "# get Regression Weights\n",
    "weightBias = model.layers[0].get_weights()\n",
    "print(\"Weight + Bias = \", weightBias)"
   ]
  },
  {
   "cell_type": "code",
   "execution_count": null,
   "metadata": {
    "id": "Hk8KDRDN22Ws"
   },
   "outputs": [],
   "source": []
  },
  {
   "cell_type": "code",
   "execution_count": null,
   "metadata": {
    "id": "XKZrOSr1220W"
   },
   "outputs": [],
   "source": []
  }
 ],
 "metadata": {
  "colab": {
   "collapsed_sections": [],
   "name": "HW3_PROBLEM1.ipynb",
   "provenance": []
  },
  "kernelspec": {
   "display_name": "Python 3 (ipykernel)",
   "language": "python",
   "name": "python3"
  },
  "language_info": {
   "codemirror_mode": {
    "name": "ipython",
    "version": 3
   },
   "file_extension": ".py",
   "mimetype": "text/x-python",
   "name": "python",
   "nbconvert_exporter": "python",
   "pygments_lexer": "ipython3",
   "version": "3.9.5"
  }
 },
 "nbformat": 4,
 "nbformat_minor": 1
}
