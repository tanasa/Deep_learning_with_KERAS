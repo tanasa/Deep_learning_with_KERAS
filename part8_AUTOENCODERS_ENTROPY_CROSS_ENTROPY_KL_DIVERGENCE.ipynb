{
 "cells": [
  {
   "cell_type": "code",
   "execution_count": 62,
   "metadata": {
    "id": "SnrPKt7cV-EJ"
   },
   "outputs": [],
   "source": [
    "import numpy as np\n",
    "import scipy as sp\n",
    "from numpy import array\n",
    "from scipy.stats import entropy\n",
    "from scipy.special import rel_entr, kl_div"
   ]
  },
  {
   "cell_type": "code",
   "execution_count": 3,
   "metadata": {
    "id": "s0X8diDyX4s2"
   },
   "outputs": [],
   "source": [
    "# the base e of the logarithm\n",
    "\n",
    "def ENTROPY_e(p) : \n",
    "    return np.sum(-p * np.log(p))"
   ]
  },
  {
   "cell_type": "markdown",
   "metadata": {
    "id": "oaYn_Nkzi6UM"
   },
   "source": []
  },
  {
   "cell_type": "code",
   "execution_count": 4,
   "metadata": {
    "id": "3iYM3zd-X5EA"
   },
   "outputs": [],
   "source": [
    "# the base 2 of the logarithm\n",
    "# although we do mainly used the ENTROPY_e\n",
    "# def ENTROPY_2(p) : \n",
    "#     return np.sum(-p * np.log(p)/ np.log(2))"
   ]
  },
  {
   "cell_type": "code",
   "execution_count": 32,
   "metadata": {
    "id": "tbr8rmkwh5fM"
   },
   "outputs": [],
   "source": [
    "def CROSS_ENTROPY(p,q) : \n",
    "   return np.sum(-p * np.log(q))"
   ]
  },
  {
   "cell_type": "code",
   "execution_count": 41,
   "metadata": {
    "id": "dLRHoeTHh50-"
   },
   "outputs": [],
   "source": [
    "def KL_DIVERGENCE(p,q) : \n",
    "    return np.sum(-p * np.log(q/p)) "
   ]
  },
  {
   "cell_type": "code",
   "execution_count": null,
   "metadata": {
    "id": "uP-M5nd8jBoX"
   },
   "outputs": [],
   "source": []
  },
  {
   "cell_type": "code",
   "execution_count": 34,
   "metadata": {
    "colab": {
     "base_uri": "https://localhost:8080/"
    },
    "id": "LUiygL4hX5Yj",
    "outputId": "2ffd3009-c97c-4bbc-dfb0-3b6aec3b374d"
   },
   "outputs": [
    {
     "name": "stdout",
     "output_type": "stream",
     "text": [
      "[0.13671875 0.140625   0.17578125 0.37109375 0.09375    0.05859375\n",
      " 0.0234375 ]\n",
      "[0.078125   0.21875    0.33203125 0.203125   0.0859375  0.078125\n",
      " 0.00390625]\n"
     ]
    }
   ],
   "source": [
    "ARRAY1 = np.array([35,36,45,95,24,15,6])\n",
    "ARRAY1d = ARRAY1/np.sum(ARRAY1)\n",
    "print(ARRAY1d)\n",
    "\n",
    "ARRAY2 = np.array([20,56,85,52,22,20,1])\n",
    "ARRAY2d = ARRAY2/np.sum(ARRAY2)\n",
    "print(ARRAY2d)"
   ]
  },
  {
   "cell_type": "code",
   "execution_count": 35,
   "metadata": {
    "colab": {
     "base_uri": "https://localhost:8080/"
    },
    "id": "xOMOkIukX5s8",
    "outputId": "9861cc08-bd52-47e0-d820-c0fe751ce704"
   },
   "outputs": [
    {
     "data": {
      "text/plain": [
       "1.697495481829104"
      ]
     },
     "execution_count": 35,
     "metadata": {},
     "output_type": "execute_result"
    }
   ],
   "source": [
    "# the ENTROPY of ARRAY1 \n",
    "ENTROPY_e(ARRAY1d)  "
   ]
  },
  {
   "cell_type": "code",
   "execution_count": 36,
   "metadata": {
    "colab": {
     "base_uri": "https://localhost:8080/"
    },
    "id": "9LwHROwcZZVh",
    "outputId": "62630558-8883-4af6-fdca-bf7629efce53"
   },
   "outputs": [
    {
     "data": {
      "text/plain": [
       "1.6532167032095546"
      ]
     },
     "execution_count": 36,
     "metadata": {},
     "output_type": "execute_result"
    }
   ],
   "source": [
    "# the ENTROPY of ARRAY2\n",
    "ENTROPY_e(ARRAY2d)  "
   ]
  },
  {
   "cell_type": "code",
   "execution_count": 39,
   "metadata": {
    "colab": {
     "base_uri": "https://localhost:8080/"
    },
    "id": "V6pIYCLFZZra",
    "outputId": "756c2e9f-de3e-44e6-d15f-c05903cfc51e"
   },
   "outputs": [
    {
     "name": "stdout",
     "output_type": "stream",
     "text": [
      "1.857006533416811\n"
     ]
    }
   ],
   "source": [
    "# the CROSS ENTROPY of ARRAY1 distribution wrt ARRAY2 distribution : \n",
    "ARRAY1_wrt_ARRAY2 = CROSS_ENTROPY(ARRAY1d, ARRAY2d)\n",
    "print(ARRAY1_wrt_ARRAY2) "
   ]
  },
  {
   "cell_type": "code",
   "execution_count": 40,
   "metadata": {
    "colab": {
     "base_uri": "https://localhost:8080/"
    },
    "id": "6shvyUorZZ98",
    "outputId": "b260f209-a725-409e-a37c-34ffeddc1c73"
   },
   "outputs": [
    {
     "name": "stdout",
     "output_type": "stream",
     "text": [
      "1.8029044775422078\n"
     ]
    }
   ],
   "source": [
    "# the CROSS ENTROPY of ARRAY2 distribution wrt ARRAY1 distribution :\n",
    "ARRAY2_wrt_ARRAY1 = CROSS_ENTROPY(ARRAY2d, ARRAY1d)\n",
    "print(ARRAY2_wrt_ARRAY1)    "
   ]
  },
  {
   "cell_type": "code",
   "execution_count": null,
   "metadata": {
    "id": "r6G7T0lRjfJl"
   },
   "outputs": [],
   "source": [
    "# 3 ways to compute the KL divergence of ARRAY1 wrt ARRAY2"
   ]
  },
  {
   "cell_type": "code",
   "execution_count": 45,
   "metadata": {
    "colab": {
     "base_uri": "https://localhost:8080/"
    },
    "id": "3Oy8osvNjfhW",
    "outputId": "88a71d60-adda-4ca0-81dd-dcbdfb13bc54"
   },
   "outputs": [
    {
     "name": "stdout",
     "output_type": "stream",
     "text": [
      "0.15951105158770723\n"
     ]
    }
   ],
   "source": [
    "ARRAY1_KL_divergence_wrt_ARRAY2 = KL_DIVERGENCE(ARRAY1d, ARRAY2d)\n",
    "print(ARRAY1_KL_divergence_wrt_ARRAY2)"
   ]
  },
  {
   "cell_type": "code",
   "execution_count": 50,
   "metadata": {
    "colab": {
     "base_uri": "https://localhost:8080/"
    },
    "id": "4HNpNXtymwtk",
    "outputId": "d134d83b-a1a2-4c99-a7d8-eafd46223851"
   },
   "outputs": [
    {
     "name": "stdout",
     "output_type": "stream",
     "text": [
      "0.15951105158770718\n"
     ]
    }
   ],
   "source": [
    "ARRAY1_KL_divergence_wrt_ARRAY2a = ARRAY1_wrt_ARRAY2 - ENTROPY_e(ARRAY1d)\n",
    "print(ARRAY1_KL_divergence_wrt_ARRAY2a)"
   ]
  },
  {
   "cell_type": "code",
   "execution_count": 69,
   "metadata": {
    "colab": {
     "base_uri": "https://localhost:8080/"
    },
    "id": "tskrFFsFnJH7",
    "outputId": "410958c3-f0eb-43c8-ee57-2f9bcc6c7b24"
   },
   "outputs": [
    {
     "name": "stdout",
     "output_type": "stream",
     "text": [
      "0.15951105158770718\n"
     ]
    }
   ],
   "source": [
    "ARRAY1_KL_divergence_wrt_ARRAY2b = np.sum(sp.special.rel_entr(ARRAY1d, ARRAY2d))\n",
    "print(ARRAY1_KL_divergence_wrt_ARRAY2b)"
   ]
  },
  {
   "cell_type": "code",
   "execution_count": null,
   "metadata": {
    "id": "jbMZkkY0mxI_"
   },
   "outputs": [],
   "source": [
    "# 3 ways to compute the KL divergence of ARRAY2 wrt ARRAY1"
   ]
  },
  {
   "cell_type": "code",
   "execution_count": 51,
   "metadata": {
    "colab": {
     "base_uri": "https://localhost:8080/"
    },
    "id": "NNcas-fzjf8q",
    "outputId": "98acde27-92bf-4459-d3e5-30b16fe3ddab"
   },
   "outputs": [
    {
     "name": "stdout",
     "output_type": "stream",
     "text": [
      "0.1496877743326534\n"
     ]
    }
   ],
   "source": [
    "ARRAY2_KL_divergence_wrt_ARRAY1 = KL_DIVERGENCE(ARRAY2d, ARRAY1d)\n",
    "print(ARRAY2_KL_divergence_wrt_ARRAY1)"
   ]
  },
  {
   "cell_type": "code",
   "execution_count": 52,
   "metadata": {
    "colab": {
     "base_uri": "https://localhost:8080/"
    },
    "id": "GvcxnP_hjgSI",
    "outputId": "404e6ec5-ea0c-439f-bb70-01d1a0558883"
   },
   "outputs": [
    {
     "name": "stdout",
     "output_type": "stream",
     "text": [
      "0.14968777433265323\n"
     ]
    }
   ],
   "source": [
    "ARRAY2_KL_divergence_wrt_ARRAY1a = ARRAY2_wrt_ARRAY1 - ENTROPY_e(ARRAY2d)\n",
    "print(ARRAY2_KL_divergence_wrt_ARRAY1a)"
   ]
  },
  {
   "cell_type": "code",
   "execution_count": 70,
   "metadata": {
    "colab": {
     "base_uri": "https://localhost:8080/"
    },
    "id": "aJtlks3kkRB7",
    "outputId": "4d8c3e55-b9eb-441b-e779-932d40165d10"
   },
   "outputs": [
    {
     "name": "stdout",
     "output_type": "stream",
     "text": [
      "0.14968777433265337\n"
     ]
    }
   ],
   "source": [
    "ARRAY2_KL_divergence_wrt_ARRAY1b = np.sum(sp.special.rel_entr(ARRAY2d, ARRAY1d))\n",
    "print(ARRAY2_KL_divergence_wrt_ARRAY1b)"
   ]
  },
  {
   "cell_type": "code",
   "execution_count": 52,
   "metadata": {
    "id": "GSCzocpzkRWj"
   },
   "outputs": [],
   "source": []
  }
 ],
 "metadata": {
  "colab": {
   "collapsed_sections": [],
   "name": "HW8_part3.ipynb",
   "provenance": []
  },
  "kernelspec": {
   "display_name": "Python 3 (ipykernel)",
   "language": "python",
   "name": "python3"
  },
  "language_info": {
   "codemirror_mode": {
    "name": "ipython",
    "version": 3
   },
   "file_extension": ".py",
   "mimetype": "text/x-python",
   "name": "python",
   "nbconvert_exporter": "python",
   "pygments_lexer": "ipython3",
   "version": "3.9.5"
  }
 },
 "nbformat": 4,
 "nbformat_minor": 1
}
