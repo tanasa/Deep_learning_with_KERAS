{
 "cells": [
  {
   "cell_type": "code",
   "execution_count": 2,
   "metadata": {
    "colab": {
     "base_uri": "https://localhost:8080/"
    },
    "id": "cZT10UARItEZ",
    "outputId": "6a82e507-63e7-4eab-8fee-b8105d2aa4a3"
   },
   "outputs": [
    {
     "name": "stdout",
     "output_type": "stream",
     "text": [
      "[0.65900114 0.24243297 0.09856589]\n"
     ]
    }
   ],
   "source": [
    "import numpy as np\n",
    "scores = np.array([2.0, 1.0, 0.1])\n",
    "\n",
    "def softmax_numpy(scores) : \n",
    "    return np.exp(scores)/np.sum(np.exp(scores), axis =0)\n",
    "\n",
    "prob = softmax_numpy(scores)\n",
    "print(prob)    "
   ]
  },
  {
   "cell_type": "code",
   "execution_count": 4,
   "metadata": {
    "colab": {
     "base_uri": "https://localhost:8080/"
    },
    "id": "rWfRKn9vJoni",
    "outputId": "215d5c93-179d-49ca-d9b4-fdf757412e9b"
   },
   "outputs": [
    {
     "name": "stdout",
     "output_type": "stream",
     "text": [
      "2.6.0\n",
      "tf.Tensor([0.6590012  0.24243298 0.09856589], shape=(3,), dtype=float32)\n"
     ]
    }
   ],
   "source": [
    "import tensorflow as tf\n",
    "print(tf.__version__)\n",
    "\n",
    "scores = tf.constant([2.0, 1.0, 0.1])\n",
    "prob2 = tf.nn.softmax(scores)\n",
    "print(prob2)"
   ]
  },
  {
   "cell_type": "code",
   "execution_count": null,
   "metadata": {
    "id": "2uf04tuRJtbp"
   },
   "outputs": [],
   "source": [
    "# ARGMAX"
   ]
  },
  {
   "cell_type": "code",
   "execution_count": 7,
   "metadata": {
    "colab": {
     "base_uri": "https://localhost:8080/"
    },
    "id": "v-jaEjmjJt_F",
    "outputId": "1dd1c872-1742-4fb9-9f56-a095f93aaa16"
   },
   "outputs": [
    {
     "name": "stdout",
     "output_type": "stream",
     "text": [
      "Sum of Columns\n",
      "[11  6 12]\n",
      "Sum of Rows\n",
      "[17 12]\n"
     ]
    }
   ],
   "source": [
    "import numpy as np\n",
    "a = np.array([(8, 2, 7), (3,4,5)])\n",
    "\n",
    "print(\"Sum of Columns\")\n",
    "sumColumns = a.sum(axis = 0)\n",
    "print(sumColumns)\n",
    "\n",
    "print(\"Sum of Rows\")\n",
    "sumRows = a.sum(axis = 1)\n",
    "print(sumRows)"
   ]
  },
  {
   "cell_type": "code",
   "execution_count": null,
   "metadata": {
    "id": "DDcM4H10JuWv"
   },
   "outputs": [],
   "source": []
  },
  {
   "cell_type": "code",
   "execution_count": 11,
   "metadata": {
    "colab": {
     "base_uri": "https://localhost:8080/"
    },
    "id": "_p4m4pcALWmc",
    "outputId": "d235adbb-849e-4168-f0ab-48ecf5c43be0"
   },
   "outputs": [
    {
     "name": "stdout",
     "output_type": "stream",
     "text": [
      "Index of maximum column\n",
      "[0 1 0]\n",
      "Index of maximum row\n",
      "[0 2]\n"
     ]
    }
   ],
   "source": [
    "import numpy as np\n",
    "a = np.array([(8, 2, 7), (3,4,5)])\n",
    "\n",
    "print(\"Index of maximum column\")\n",
    "indexColumns = a.argmax(axis = 0)\n",
    "print(indexColumns)\n",
    "\n",
    "print(\"Index of maximum row\")\n",
    "indexRows = a.argmax(axis = 1)\n",
    "print(indexRows)"
   ]
  },
  {
   "cell_type": "code",
   "execution_count": null,
   "metadata": {
    "colab": {
     "base_uri": "https://localhost:8080/"
    },
    "id": "jjAbOPeeMwr1",
    "outputId": "1dd1c872-1742-4fb9-9f56-a095f93aaa16"
   },
   "outputs": [
    {
     "name": "stdout",
     "output_type": "stream",
     "text": [
      "Sum of Columns\n",
      "[11  6 12]\n",
      "Sum of Rows\n",
      "[17 12]\n"
     ]
    }
   ],
   "source": [
    "print(\"Sum of Columns\")\n",
    "sumColumns = a.sum(axis = 0)\n",
    "print(sumColumns)\n",
    "\n",
    "print(\"Sum of Rows\")\n",
    "sumRows = a.sum(axis = 1)\n",
    "print(sumRows)"
   ]
  },
  {
   "cell_type": "code",
   "execution_count": null,
   "metadata": {
    "id": "Y-1qMjZtJuq4"
   },
   "outputs": [],
   "source": []
  },
  {
   "cell_type": "code",
   "execution_count": null,
   "metadata": {
    "id": "W3f-NdI0JvHi"
   },
   "outputs": [],
   "source": []
  },
  {
   "cell_type": "code",
   "execution_count": 12,
   "metadata": {
    "colab": {
     "base_uri": "https://localhost:8080/"
    },
    "id": "k9igEMobMFTw",
    "outputId": "b0b91f90-4d53-4737-df69-021fd3cbdab1"
   },
   "outputs": [
    {
     "name": "stdout",
     "output_type": "stream",
     "text": [
      "tf.Tensor(\n",
      "[[8 2 7]\n",
      " [3 4 5]], shape=(2, 3), dtype=int32)\n",
      "Index of maximum column\n",
      "tf.Tensor([0 1 0], shape=(3,), dtype=int64)\n",
      "Index of maximum row\n",
      "tf.Tensor([0 2], shape=(2,), dtype=int64)\n"
     ]
    }
   ],
   "source": [
    "inputData = tf.constant([[10,20]])\n",
    "print(inputData.shape)\n",
    "print(inputData)\n",
    "\n",
    "#################### layer 1\n",
    "\n",
    "W1 = tf.constant([[1,2,3], [4,5,6]])\n",
    "print(W1.shape)\n",
    "print(W1)\n",
    "\n",
    "##############################\n",
    "\n",
    "print(\"Index of maximum row\")\n",
    "indexRows = tf.argmax(a, axis = 1)\n",
    "print(indexRows)"
   ]
  },
  {
   "cell_type": "code",
   "execution_count": null,
   "metadata": {
    "colab": {
     "base_uri": "https://localhost:8080/"
    },
    "id": "zi8yzsK7OWDa",
    "outputId": "b0b91f90-4d53-4737-df69-021fd3cbdab1"
   },
   "outputs": [
    {
     "name": "stdout",
     "output_type": "stream",
     "text": [
      "tf.Tensor(\n",
      "[[8 2 7]\n",
      " [3 4 5]], shape=(2, 3), dtype=int32)\n",
      "Index of maximum column\n",
      "tf.Tensor([0 1 0], shape=(3,), dtype=int64)\n",
      "Index of maximum row\n",
      "tf.Tensor([0 2], shape=(2,), dtype=int64)\n"
     ]
    }
   ],
   "source": [
    "inputData = tf.constant([[10,20]])\n",
    "print(inputData.shape)\n",
    "print(inputData)\n",
    "\n",
    "#################### layer 1\n",
    "\n",
    "W1 = tf.constant([[1,2,3], [4,5,6]])\n",
    "print(W1.shape)\n",
    "print(W1)\n",
    "\n",
    "##############################\n",
    "\n",
    "\n",
    "\n",
    "\n",
    "\n",
    "\n"
   ]
  },
  {
   "cell_type": "code",
   "execution_count": null,
   "metadata": {
    "colab": {
     "base_uri": "https://localhost:8080/"
    },
    "id": "e0Pzq6M9OxdB",
    "outputId": "b0b91f90-4d53-4737-df69-021fd3cbdab1"
   },
   "outputs": [
    {
     "name": "stdout",
     "output_type": "stream",
     "text": [
      "tf.Tensor(\n",
      "[[8 2 7]\n",
      " [3 4 5]], shape=(2, 3), dtype=int32)\n",
      "Index of maximum column\n",
      "tf.Tensor([0 1 0], shape=(3,), dtype=int64)\n",
      "Index of maximum row\n",
      "tf.Tensor([0 2], shape=(2,), dtype=int64)\n"
     ]
    }
   ],
   "source": [
    "inputData = tf.constant([[10,20]])\n",
    "print(inputData.shape)\n",
    "print(inputData)\n",
    "\n",
    "#################### layer 1\n",
    "\n",
    "W1 = tf.constant([[1,2,3], [4,5,6]])\n",
    "print(W1.shape)\n",
    "print(W1)\n",
    "\n",
    "##############################\n",
    "\n",
    "\n"
   ]
  },
  {
   "cell_type": "code",
   "execution_count": 15,
   "metadata": {
    "colab": {
     "base_uri": "https://localhost:8080/"
    },
    "id": "Sce_86p5OwA8",
    "outputId": "1af07dcb-422f-443f-b95c-69e3157ecf5e"
   },
   "outputs": [
    {
     "name": "stdout",
     "output_type": "stream",
     "text": [
      "(1, 2)\n",
      "tf.Tensor([[10 20]], shape=(1, 2), dtype=int32)\n",
      "(2, 3)\n",
      "tf.Tensor(\n",
      "[[1 2 3]\n",
      " [4 5 6]], shape=(2, 3), dtype=int32)\n",
      "(1, 3)\n",
      "tf.Tensor([[7 8 9]], shape=(1, 3), dtype=int32)\n",
      "(1, 3)\n",
      "tf.Tensor([[ 97 128 159]], shape=(1, 3), dtype=int32)\n",
      "(1, 3)\n",
      "tf.Tensor([[1. 1. 1.]], shape=(1, 3), dtype=float32)\n"
     ]
    }
   ],
   "source": [
    "##############################\n",
    "##############################\n",
    "\n",
    "inputData = tf.constant([[10,20]])\n",
    "print(inputData.shape)\n",
    "print(inputData)\n",
    "\n",
    "#################### layer 1\n",
    "##############################\n",
    "\n",
    "W1 = tf.constant([[1,2,3], [4,5,6]])\n",
    "print(W1.shape)\n",
    "print(W1)\n",
    "\n",
    "##############################\n",
    "\n",
    "b1 = tf.constant([[7,8,9]])\n",
    "print(b1.shape)\n",
    "print(b1)\n",
    "\n",
    "##############################\n",
    "\n",
    "outputH1 = tf.matmul(inputData, W1) + b1\n",
    "print(outputH1.shape)\n",
    "print(outputH1)\n",
    "\n",
    "outputH1_Activation = tf.sigmoid(tf.cast(outputH1, tf.float32))\n",
    "print(outputH1_Activation.shape)\n",
    "print(outputH1_Activation)\n",
    "\n",
    "##############################\n",
    "\n",
    "W2 = tf.cast(tf.constant([[10], [11], [12], tf.float32)\n",
    "print(W2.shape)\n",
    "print(W2)\n",
    "\n",
    "##############################\n",
    "\n",
    "b2 = tf.cast(tf.constant([[13]], tf.float32)\n",
    "print(b2.shape)\n",
    "print(b2)\n",
    "\n",
    "##############################\n",
    "\n",
    "outputH2 = tf.matmul(outputH1_Activation, W2) + b2\n",
    "print(outputH2.shape)\n",
    "print(outputH2)\n",
    "\n",
    "outputH2_Activation = tf.sigmoid(tf.cast(outputH2, tf.float32))\n",
    "print(outputH2_Activation.shape)\n",
    "print(outputH2_Activation)\n",
    "\n",
    "##############################\n",
    "##############################"
   ]
  },
  {
   "cell_type": "code",
   "execution_count": null,
   "metadata": {
    "id": "FRhSUGZyJvf0"
   },
   "outputs": [],
   "source": []
  },
  {
   "cell_type": "code",
   "execution_count": null,
   "metadata": {
    "id": "RyTTUJigMHjP"
   },
   "outputs": [],
   "source": []
  },
  {
   "cell_type": "code",
   "execution_count": 45,
   "metadata": {
    "colab": {
     "base_uri": "https://localhost:8080/"
    },
    "id": "4de4GuwXMIDA",
    "outputId": "9c8a7398-eb36-43d5-e98b-71fd224a6024"
   },
   "outputs": [
    {
     "name": "stdout",
     "output_type": "stream",
     "text": [
      "tf.Tensor([[0.35500002]], shape=(1, 1), dtype=float32)\n",
      "tf.Tensor([[0.68780005]], shape=(1, 1), dtype=float32)\n"
     ]
    }
   ],
   "source": [
    "import tensorflow as tf\n",
    "\n",
    "#############################\n",
    "##############################\n",
    "\n",
    "inputData = tf.constant([[0.1,0.2]])\n",
    "# print(inputData.shape)\n",
    "# print(inputData)\n",
    "\n",
    "#################### layer 1\n",
    "##############################\n",
    "\n",
    "W1 = tf.constant([[0.15], [0.05]])\n",
    "# print(W1.shape)\n",
    "# print(W1)\n",
    "\n",
    "##############################\n",
    "\n",
    "b1 = tf.constant([[0.33]])\n",
    "# print(b1.shape)\n",
    "# print(b1)\n",
    "\n",
    "##############################\n",
    "\n",
    "outputH1 = tf.matmul(inputData, W1) + b1\n",
    "# print(outputH1.shape)\n",
    "# print(outputH1)\n",
    "\n",
    "outputH1_Activation = tf.keras.activations.relu(tf.cast(outputH1, tf.float32))\n",
    "# print(outputH1_Activation.shape)\n",
    "# print(outputH1_Activation)\n",
    "\n",
    "##############################\n",
    "\n",
    "W2 = tf.constant([[0.36]])\n",
    "# print(W2.shape)\n",
    "# print(W2)\n",
    "\n",
    "##############################\n",
    "\n",
    "b2 = tf.constant([[0.56]])\n",
    "# print(b2.shape)\n",
    "# print(b2)\n",
    "\n",
    "##############################\n",
    "\n",
    "outputH2 = tf.matmul(outputH1_Activation, W2) + b2\n",
    "# print(outputH2.shape)\n",
    "# print(outputH2)\n",
    "\n",
    "outputH2_Activation = tf.keras.activations.relu(tf.cast(outputH2, tf.float32))\n",
    "# print(outputH2_Activation.shape)\n",
    "# print(outputH2_Activation)\n",
    "\n",
    "##############################\n",
    "##############################\n",
    "\n",
    "print(outputH1_Activation)\n",
    "print(outputH2_Activation)"
   ]
  },
  {
   "cell_type": "code",
   "execution_count": null,
   "metadata": {
    "id": "nH9L_T4UTndQ"
   },
   "outputs": [],
   "source": []
  },
  {
   "cell_type": "code",
   "execution_count": 73,
   "metadata": {
    "colab": {
     "base_uri": "https://localhost:8080/"
    },
    "id": "MAdLZi3BTn1o",
    "outputId": "3a818493-42a7-4ebd-d70b-250869ac7a44"
   },
   "outputs": [
    {
     "name": "stdout",
     "output_type": "stream",
     "text": [
      "tf.Tensor(0.017662734, shape=(), dtype=float32)\n",
      "tf.Tensor(0.23500372, shape=(), dtype=float32)\n",
      "tf.Tensor(0.017662734, shape=(), dtype=float32)\n"
     ]
    }
   ],
   "source": [
    "import tensorflow as tf\n",
    "\n",
    "x1 = -4.0\n",
    "x2 = 0.5\n",
    "x3 = 4.0 \n",
    "\n",
    "gradient_SIGMOID1 = tf.keras.activations.sigmoid(x1) * (1- tf.keras.activations.sigmoid(x1))\n",
    "print(gradient_SIGMOID1)\n",
    "\n",
    "gradient_SIGMOID2 = tf.keras.activations.sigmoid(x2) * (1- tf.keras.activations.sigmoid(x2))\n",
    "print(gradient_SIGMOID2)\n",
    "\n",
    "gradient_SIGMOID3 = tf.keras.activations.sigmoid(x3) * (1- tf.keras.activations.sigmoid(x3))\n",
    "print(gradient_SIGMOID3)"
   ]
  },
  {
   "cell_type": "code",
   "execution_count": 76,
   "metadata": {
    "colab": {
     "base_uri": "https://localhost:8080/"
    },
    "id": "hu_gF5XeuVjK",
    "outputId": "fa6b15e3-449b-46af-8672-590692586c6f"
   },
   "outputs": [
    {
     "name": "stdout",
     "output_type": "stream",
     "text": [
      "tf.Tensor(0.0013411045, shape=(), dtype=float32)\n",
      "tf.Tensor(0.7864477, shape=(), dtype=float32)\n",
      "tf.Tensor(0.0013411045, shape=(), dtype=float32)\n"
     ]
    }
   ],
   "source": [
    "import tensorflow as tf\n",
    "\n",
    "x1 = -4.0\n",
    "x2 = 0.5\n",
    "x3 = 4.0 \n",
    "\n",
    "gradient_TANH1 = 1 - tf.keras.activations.tanh(x1)**2\n",
    "print(gradient_TANH1)\n",
    "\n",
    "gradient_TANH2 = 1 - tf.keras.activations.tanh(x2)**2\n",
    "print(gradient_TANH2)\n",
    "\n",
    "gradient_TANH3 = 1- tf.keras.activations.tanh(x3)**2\n",
    "print(gradient_TANH3)"
   ]
  },
  {
   "cell_type": "code",
   "execution_count": 79,
   "metadata": {
    "colab": {
     "base_uri": "https://localhost:8080/"
    },
    "id": "IZyjUutpuV41",
    "outputId": "a68c975a-d51a-4259-e574-843b45eff36a"
   },
   "outputs": [
    {
     "name": "stdout",
     "output_type": "stream",
     "text": [
      "0\n",
      "1\n",
      "1\n"
     ]
    }
   ],
   "source": [
    "x1 = -4.0\n",
    "x2 = 0.5\n",
    "x3 = 4.0 \n",
    "\n",
    "gradient_RELU = (lambda x: 1 if ( x > 0) else 0)(x1)\n",
    "print(gradient_RELU)\n",
    "\n",
    "gradient_RELU = (lambda x: 1 if ( x > 0) else 0)(x2)\n",
    "print(gradient_RELU)\n",
    "\n",
    "gradient_RELU = (lambda x: 1 if ( x > 0) else 0)(x3)\n",
    "print(gradient_RELU)\n",
    "\n"
   ]
  },
  {
   "cell_type": "code",
   "execution_count": null,
   "metadata": {
    "id": "PXzTuSlq22p_"
   },
   "outputs": [],
   "source": []
  },
  {
   "cell_type": "code",
   "execution_count": null,
   "metadata": {
    "colab": {
     "base_uri": "https://localhost:8080/"
    },
    "id": "n3TDvNJW2fMU",
    "outputId": "7d7a23bf-8648-4dc2-d1b9-afc03e030077"
   },
   "outputs": [
    {
     "name": "stdout",
     "output_type": "stream",
     "text": [
      "0\n"
     ]
    }
   ],
   "source": [
    "## PROBLEM 3\n",
    "## here working on the PROBLEM 3, according to the SLIDE 22 in the presentation "
   ]
  },
  {
   "cell_type": "code",
   "execution_count": null,
   "metadata": {
    "id": "zs8PDoyvz4tX"
   },
   "outputs": [],
   "source": [
    "# the SYNTAX is DIFFERENT than the syntax that was provided in the file with the ANSWERS"
   ]
  },
  {
   "cell_type": "code",
   "execution_count": 5,
   "metadata": {
    "colab": {
     "base_uri": "https://localhost:8080/"
    },
    "id": "wnmpXNloow1P",
    "outputId": "f5da8d8f-db1e-41f6-d959-39c6fdc4834e"
   },
   "outputs": [
    {
     "name": "stdout",
     "output_type": "stream",
     "text": [
      "2.6.0\n",
      "tf.Tensor([0.6375659  0.21222727 0.08628516 0.06392162], shape=(4,), dtype=float32)\n",
      "tf.Tensor([0.21910708 0.17938972 0.44122744 0.04002725 0.12024851], shape=(5,), dtype=float32)\n"
     ]
    }
   ],
   "source": [
    "import tensorflow as tf\n",
    "print(tf.__version__)\n",
    "##############################\n",
    "\n",
    "SCORES1 =  tf.constant([2.3, 1.2, 0.3, 0.0])\n",
    "PROBAB1 = tf.nn.softmax(SCORES1)\n",
    "print(PROBAB1) \n",
    "\n",
    "##############################\n",
    "\n",
    "SCORES2 =  tf.constant([1.9, 1.7, 2.6, 0.2, 1.3])\n",
    "PROBAB2 = tf.nn.softmax(SCORES2)\n",
    "print(PROBAB2) "
   ]
  },
  {
   "cell_type": "code",
   "execution_count": null,
   "metadata": {
    "id": "-E_4AIDruWOr"
   },
   "outputs": [],
   "source": []
  },
  {
   "cell_type": "code",
   "execution_count": null,
   "metadata": {
    "id": "pt0Fkw2QToRS"
   },
   "outputs": [],
   "source": []
  },
  {
   "cell_type": "code",
   "execution_count": null,
   "metadata": {
    "id": "dyFpZtzATomN"
   },
   "outputs": [],
   "source": []
  },
  {
   "cell_type": "code",
   "execution_count": null,
   "metadata": {
    "colab": {
     "base_uri": "https://localhost:8080/"
    },
    "id": "ZPwgToC0r8Fv",
    "outputId": "f5da8d8f-db1e-41f6-d959-39c6fdc4834e"
   },
   "outputs": [
    {
     "name": "stdout",
     "output_type": "stream",
     "text": [
      "2.6.0\n",
      "tf.Tensor([0.6375659  0.21222727 0.08628516 0.06392162], shape=(4,), dtype=float32)\n",
      "tf.Tensor([0.21910708 0.17938972 0.44122744 0.04002725 0.12024851], shape=(5,), dtype=float32)\n"
     ]
    }
   ],
   "source": [
    "import tensorflow as tf\n",
    "print(tf.__version__)\n",
    "##############################\n",
    "\n",
    "SCORES1 =  tf.constant([2.3, 1.2, 0.3, 0.0])\n",
    "PROBAB1 = tf.nn.softmax(SCORES1)\n",
    "print(PROBAB1) \n",
    "\n",
    "##############################\n",
    "\n",
    "SCORES2 =  tf.constant([1.9, 1.7, 2.6, 0.2, 1.3])\n",
    "PROBAB2 = tf.nn.softmax(SCORES2)\n",
    "print(PROBAB2) \n",
    "\n"
   ]
  },
  {
   "cell_type": "code",
   "execution_count": null,
   "metadata": {
    "id": "ajs2XVikTo6O"
   },
   "outputs": [],
   "source": [
    "## PROBLEM 4, regarding the CROSS-ENTROPY, according to the SLIDE 24 of the presentation"
   ]
  },
  {
   "cell_type": "code",
   "execution_count": null,
   "metadata": {
    "id": "HhFyYbkBwyai"
   },
   "outputs": [],
   "source": [
    "## the SYNTAX is DIFFERENT than the syntax that was provided in the file with the ANSWERS"
   ]
  },
  {
   "cell_type": "code",
   "execution_count": 42,
   "metadata": {
    "colab": {
     "base_uri": "https://localhost:8080/"
    },
    "id": "ufJnUEUlTpT3",
    "outputId": "ffd51a99-2888-49c1-8a55-10a9eff73946"
   },
   "outputs": [
    {
     "name": "stdout",
     "output_type": "stream",
     "text": [
      "2.6.0\n",
      "        \n",
      "Computed value is 0.95 Cost function is 2.995732\n",
      "Computed value is 0.8 Cost function is 1.609438\n",
      "Computed value is 0.6 Cost function is 0.9162908\n",
      "Computed value is 0.4 Cost function is 0.5108256\n",
      "Computed value is 0.1 Cost function is 0.105360545\n",
      "        \n",
      "Computed value is 0.95 Cost function is 0.051293306\n",
      "Computed value is 0.8 Cost function is 0.22314353\n",
      "Computed value is 0.6 Cost function is 0.5108256\n",
      "Computed value is 0.4 Cost function is 0.9162907\n",
      "Computed value is 0.1 Cost function is 2.3025851\n"
     ]
    }
   ],
   "source": [
    "import tensorflow as tf\n",
    "print(tf.__version__)\n",
    "import math\n",
    "import numpy as np\n",
    "\n",
    "############################## here we define a function that we call CROSS-ENTROPY\n",
    "def CROSS_ENTROPY (TARGET, COMPUTED) :\n",
    "    z = -1 * ( TARGET * math.log(COMPUTED) + (1-TARGET) * math.log(1-COMPUTED) )\n",
    "    return z  \n",
    "##############################\n",
    "\n",
    "TARGET1 = tf.constant([0.0, 0.0, 0.0, 0.0, 0.0])\n",
    "COMPUTED1 = tf.constant([0.95, 0.8, 0.6, 0.4, 0.1])\n",
    "\n",
    "# using the NATURAL LOGARITHM\n",
    "print(\"        \")\n",
    "\n",
    "for i in range(len(TARGET1)) : \n",
    "    # print(CROSS_ENTROPY(TARGET1[i], COMPUTED1[i]))\n",
    "    print('Computed value is', np.array(COMPUTED1[i]) , 'Cost function is', np.array(CROSS_ENTROPY(TARGET1[i], COMPUTED1[i]))) \n",
    "\n",
    "# using a a line to separate\n",
    "print(\"        \")\n",
    "\n",
    "TARGET2 = tf.constant([1.0, 1.0, 1.0, 1.0, 1.0])\n",
    "COMPUTED2 = tf.constant([0.95, 0.8, 0.6, 0.4, 0.1])\n",
    "\n",
    "for i in range(len(TARGET2)) : \n",
    "    # print(CROSS_ENTROPY(TARGET2[i], COMPUTED2[i]))\n",
    "    print('Computed value is', np.array(COMPUTED2[i]) , 'Cost function is', np.array(CROSS_ENTROPY(TARGET2[i], COMPUTED2[i]))) "
   ]
  },
  {
   "cell_type": "code",
   "execution_count": null,
   "metadata": {
    "id": "290fqdFntOr3"
   },
   "outputs": [],
   "source": [
    "\n",
    "# working on the PROBLEM 5\n",
    "# according to the SLIDE 26\n"
   ]
  },
  {
   "cell_type": "code",
   "execution_count": 50,
   "metadata": {
    "colab": {
     "base_uri": "https://localhost:8080/"
    },
    "id": "3n1WtzhMssy4",
    "outputId": "9abffe9d-4d48-4acf-ba25-9660140c16fa"
   },
   "outputs": [
    {
     "name": "stdout",
     "output_type": "stream",
     "text": [
      "2.6.0\n",
      "[[ 5  2  3]\n",
      " [26 56 92]\n",
      " [ 3  0 26]]\n",
      "the index of the maximum column\n",
      "[1 1 1]\n",
      "the index of the maximum row\n",
      "[0 2 2]\n"
     ]
    }
   ],
   "source": [
    "import tensorflow as tf\n",
    "print(tf.__version__)\n",
    "import math\n",
    "import numpy as np\n",
    "\n",
    "\n",
    "a = tf.constant( [ [5,2,3], [26, 56, 92], [3, 0, 26] ])\n",
    "print(np.array(x))\n",
    "\n",
    "print(\"the index of the maximum column\")\n",
    "a1 = tf.argmax(a, axis = 0 )\n",
    "print(np.array(a1))\n",
    "\n",
    "print(\"the index of the maximum row\")\n",
    "a2 = tf.argmax(a, axis = 1 )\n",
    "print(np.array(a2))"
   ]
  },
  {
   "cell_type": "code",
   "execution_count": null,
   "metadata": {
    "id": "2wUqNwDMG1Hs"
   },
   "outputs": [],
   "source": []
  },
  {
   "cell_type": "code",
   "execution_count": null,
   "metadata": {
    "id": "joEegOQtTpra"
   },
   "outputs": [],
   "source": [
    "# working on PROBLEM 6\n",
    "# we have adapted a previous code a PREVIOUS PROBLEM\n",
    "\n",
    "# in the first BATCH, the INPUT is [0,0], and the OUTPUT is 0\n",
    "# in the first BATCH, the INPUT is [1,0], and the OUTPUT is 1\n",
    "# in the first BATCH, the INPUT is [0,1], and the OUTPUT is 1\n",
    "# in the first BATCH, the INPUT is [1,1], and the OUTPUT is 0\n"
   ]
  },
  {
   "cell_type": "code",
   "execution_count": null,
   "metadata": {
    "id": "DH502jScf6SI"
   },
   "outputs": [],
   "source": [
    "# shall we use a BATCH SIZE of 1"
   ]
  },
  {
   "cell_type": "code",
   "execution_count": 75,
   "metadata": {
    "colab": {
     "base_uri": "https://localhost:8080/"
    },
    "id": "BN0FJqWEMIjU",
    "outputId": "2dbbe1ad-7d48-4fbc-fecf-08260255fe4a"
   },
   "outputs": [
    {
     "name": "stdout",
     "output_type": "stream",
     "text": [
      "[[0.11920291 0.95257413 0.11920291]]\n",
      "[[0.04137862]]\n",
      "[[[0.00171219]]]\n"
     ]
    }
   ],
   "source": [
    "import tensorflow as tf\n",
    "\n",
    "############################## the INPUT data is here 0, 0\n",
    "##############################\n",
    "\n",
    "inputData = tf.constant([[0, 0]])\n",
    "\n",
    "W1 = tf.constant([[-4, -6, -5], [3, 6, 4 ]])\n",
    "b1 = tf.constant([[-2 , 3 , -2]])\n",
    "\n",
    "outputH1 = tf.matmul(inputData, W1) + b1\n",
    "outputH1_Activation = tf.keras.activations.sigmoid(tf.cast(outputH1, tf.float32))\n",
    "\n",
    "##############################\n",
    "\n",
    "W2 = tf.constant([ [5], [-9], [7] ], tf.float32)\n",
    "b2 = tf.constant([[4]], tf.float32)\n",
    "\n",
    "outputH2 = tf.matmul(outputH1_Activation, W2) + b2\n",
    "outputH2_Activation = tf.keras.activations.sigmoid(tf.cast(outputH2, tf.float32))\n",
    "\n",
    "##############################\n",
    "##############################\n",
    "\n",
    "print(np.array(outputH1_Activation))\n",
    "print(np.array(outputH2_Activation))\n",
    "\n",
    "##############################\n",
    "##############################\n",
    "\n",
    "# the OUTPUT that we do have is\n",
    "\n",
    "# the TRUE OUTPUT is 0\n",
    "# so we do compute the ERROR\n",
    "\n",
    "TRUE_OUTPUT1 = 0\n",
    "\n",
    "ERROR1 = (TRUE_OUTPUT1 - outputH2_Activation ) ** 2\n",
    "\n",
    "print(np.array([ERROR1]))\n",
    "##############################\n",
    "##############################"
   ]
  },
  {
   "cell_type": "code",
   "execution_count": null,
   "metadata": {
    "id": "0Xc8cAiKRN_A"
   },
   "outputs": [],
   "source": [
    "# shall we use a BATCH SIZE of 1"
   ]
  },
  {
   "cell_type": "code",
   "execution_count": 76,
   "metadata": {
    "colab": {
     "base_uri": "https://localhost:8080/"
    },
    "id": "MNUPs2ZxROfj",
    "outputId": "98cdd38f-6ec8-4502-e4b3-4f84862c78fe"
   },
   "outputs": [
    {
     "name": "stdout",
     "output_type": "stream",
     "text": [
      "[[0.00247264 0.04742587 0.00091106]]\n",
      "[[0.9731927]]\n",
      "[[[0.00071863]]]\n"
     ]
    }
   ],
   "source": [
    "import tensorflow as tf\n",
    "\n",
    "############################## the INPUT data is here 1, 0\n",
    "##############################\n",
    "\n",
    "inputData = tf.constant([[1, 0]])\n",
    "\n",
    "W1 = tf.constant([[-4, -6, -5], [3, 6, 4 ]])\n",
    "b1 = tf.constant([[-2 , 3 , -2]])\n",
    "\n",
    "outputH1 = tf.matmul(inputData, W1) + b1\n",
    "outputH1_Activation = tf.keras.activations.sigmoid(tf.cast(outputH1, tf.float32))\n",
    "\n",
    "##############################\n",
    "\n",
    "W2 = tf.constant([ [5], [-9], [7] ], tf.float32)\n",
    "b2 = tf.constant([[4]], tf.float32)\n",
    "\n",
    "outputH2 = tf.matmul(outputH1_Activation, W2) + b2\n",
    "outputH2_Activation = tf.keras.activations.sigmoid(tf.cast(outputH2, tf.float32))\n",
    "\n",
    "##############################\n",
    "##############################\n",
    "\n",
    "print(np.array(outputH1_Activation))\n",
    "print(np.array(outputH2_Activation))\n",
    "\n",
    "##############################\n",
    "##############################\n",
    "\n",
    "# the OUTPUT that we do have is\n",
    "\n",
    "# the TRUE OUTPUT is 1\n",
    "# so we do compute the ERROR\n",
    "\n",
    "TRUE_OUTPUT2 = 1\n",
    "\n",
    "ERROR2 = (TRUE_OUTPUT2 - outputH2_Activation ) ** 2\n",
    "\n",
    "print(np.array([ERROR2]))\n",
    "##############################\n",
    "##############################"
   ]
  },
  {
   "cell_type": "code",
   "execution_count": null,
   "metadata": {
    "id": "iEtPOw2CRO60"
   },
   "outputs": [],
   "source": [
    "# shall we use a BATCH SIZE of 1"
   ]
  },
  {
   "cell_type": "code",
   "execution_count": 77,
   "metadata": {
    "colab": {
     "base_uri": "https://localhost:8080/"
    },
    "id": "Jv66KPdMRPRu",
    "outputId": "2487915c-04b5-4a96-e11e-c1066c995321"
   },
   "outputs": [
    {
     "name": "stdout",
     "output_type": "stream",
     "text": [
      "[[0.7310586 0.9998766 0.8807971]]\n",
      "[[0.99201345]]\n",
      "[[[6.378491e-05]]]\n"
     ]
    }
   ],
   "source": [
    "import tensorflow as tf\n",
    "\n",
    "############################## the INPUT data is here 0, 1\n",
    "##############################\n",
    "\n",
    "inputData = tf.constant([[0, 1]])\n",
    "\n",
    "W1 = tf.constant([[-4, -6, -5], [3, 6, 4 ]])\n",
    "b1 = tf.constant([[-2 , 3 , -2]])\n",
    "\n",
    "outputH1 = tf.matmul(inputData, W1) + b1\n",
    "outputH1_Activation = tf.keras.activations.sigmoid(tf.cast(outputH1, tf.float32))\n",
    "\n",
    "##############################\n",
    "\n",
    "W2 = tf.constant([ [5], [-9], [7] ], tf.float32)\n",
    "b2 = tf.constant([[4]], tf.float32)\n",
    "\n",
    "outputH2 = tf.matmul(outputH1_Activation, W2) + b2\n",
    "outputH2_Activation = tf.keras.activations.sigmoid(tf.cast(outputH2, tf.float32))\n",
    "\n",
    "##############################\n",
    "##############################\n",
    "\n",
    "print(np.array(outputH1_Activation))\n",
    "print(np.array(outputH2_Activation))\n",
    "\n",
    "##############################\n",
    "##############################\n",
    "\n",
    "# the OUTPUT that we do have is\n",
    "\n",
    "# the TRUE OUTPUT is 1\n",
    "# so we do compute the ERROR\n",
    "\n",
    "TRUE_OUTPUT3 = 1\n",
    "\n",
    "ERROR3 = (TRUE_OUTPUT3 - outputH2_Activation ) ** 2\n",
    "\n",
    "print(np.array([ERROR3]))\n",
    "##############################\n",
    "##############################"
   ]
  },
  {
   "cell_type": "code",
   "execution_count": null,
   "metadata": {
    "id": "EkOTU0qNRPwB"
   },
   "outputs": [],
   "source": [
    "# shall we use a BATCH SIZE of 1"
   ]
  },
  {
   "cell_type": "code",
   "execution_count": 79,
   "metadata": {
    "colab": {
     "base_uri": "https://localhost:8080/"
    },
    "id": "iwbcB94CRQEw",
    "outputId": "4186ff5f-20fb-4100-dc73-9ba10e2c1e37"
   },
   "outputs": [
    {
     "name": "stdout",
     "output_type": "stream",
     "text": [
      "[[0.04742587 0.95257413 0.04742587]]\n",
      "[[0.01791471]]\n",
      "[[[0.00032094]]]\n"
     ]
    }
   ],
   "source": [
    "import tensorflow as tf\n",
    "\n",
    "############################## the INPUT data is here 1, 1\n",
    "##############################\n",
    "\n",
    "inputData = tf.constant([[1, 1]])\n",
    "\n",
    "W1 = tf.constant([[-4, -6, -5], [3, 6, 4 ]])\n",
    "b1 = tf.constant([[-2 , 3 , -2]])\n",
    "\n",
    "outputH1 = tf.matmul(inputData, W1) + b1\n",
    "outputH1_Activation = tf.keras.activations.sigmoid(tf.cast(outputH1, tf.float32))\n",
    "\n",
    "##############################\n",
    "\n",
    "W2 = tf.constant([ [5], [-9], [7] ], tf.float32)\n",
    "b2 = tf.constant([[4]], tf.float32)\n",
    "\n",
    "outputH2 = tf.matmul(outputH1_Activation, W2) + b2\n",
    "outputH2_Activation = tf.keras.activations.sigmoid(tf.cast(outputH2, tf.float32))\n",
    "\n",
    "##############################\n",
    "##############################\n",
    "\n",
    "print(np.array(outputH1_Activation))\n",
    "print(np.array(outputH2_Activation))\n",
    "\n",
    "##############################\n",
    "##############################\n",
    "\n",
    "# the OUTPUT that we do have is\n",
    "\n",
    "# the TRUE OUTPUT is 1\n",
    "# so we do compute the ERROR\n",
    "\n",
    "TRUE_OUTPUT4 = 0\n",
    "\n",
    "ERROR4 = (TRUE_OUTPUT4 - outputH2_Activation ) ** 2\n",
    "\n",
    "print(np.array([ERROR4]))\n",
    "##############################\n",
    "##############################"
   ]
  },
  {
   "cell_type": "code",
   "execution_count": null,
   "metadata": {
    "id": "XIFSLZX7RQYV"
   },
   "outputs": [],
   "source": [
    "# shall we use a BATCH SIZE of 4"
   ]
  },
  {
   "cell_type": "code",
   "execution_count": 85,
   "metadata": {
    "colab": {
     "base_uri": "https://localhost:8080/"
    },
    "id": "G8ZnmiS3RQ_n",
    "outputId": "c4743e9e-ca2b-4b47-f903-299858350e1d"
   },
   "outputs": [
    {
     "name": "stdout",
     "output_type": "stream",
     "text": [
      "here it is the ERROR that we do obtain for each INPUT type\n",
      "[[[1.7121900e-03]\n",
      "  [7.1863178e-04]\n",
      "  [6.3784908e-05]\n",
      "  [3.2093693e-04]]]\n"
     ]
    }
   ],
   "source": [
    "##############################\n",
    "\n",
    "import tensorflow as tf\n",
    "\n",
    "############################## the INPUT data is here 1, 1\n",
    "##############################\n",
    "\n",
    "inputData = tf.constant([[0,0], [1,0], [0,1], [1, 1]])\n",
    "\n",
    "W1 = tf.constant([[-4, -6, -5], [3, 6, 4 ]])\n",
    "b1 = tf.constant([[-2 , 3 , -2]])\n",
    "\n",
    "outputH1 = tf.matmul(inputData, W1) + b1\n",
    "outputH1_Activation = tf.keras.activations.sigmoid(tf.cast(outputH1, tf.float32))\n",
    "\n",
    "##############################\n",
    "\n",
    "W2 = tf.constant([ [5], [-9], [7] ], tf.float32)\n",
    "b2 = tf.constant([[4]], tf.float32)\n",
    "\n",
    "outputH2 = tf.matmul(outputH1_Activation, W2) + b2\n",
    "outputH2_Activation = tf.keras.activations.sigmoid(tf.cast(outputH2, tf.float32))\n",
    "\n",
    "##############################\n",
    "##############################\n",
    "\n",
    "# print(np.array(outputH1_Activation))\n",
    "# print(np.array(outputH2_Activation))\n",
    "\n",
    "##############################\n",
    "##############################\n",
    "\n",
    "# the OUTPUT that we do have is\n",
    "\n",
    "# the TRUE OUTPUT is 0, 1, 1, 0\n",
    "# so we do compute the ERROR\n",
    "\n",
    "TRUE_OUTPUT4 = tf.constant( [ [0.0], [1.0], [1.0], [0.0] ] )\n",
    "\n",
    "ERROR4 = (TRUE_OUTPUT4 - outputH2_Activation ) ** 2\n",
    "\n",
    "print(\"here it is the ERROR that we do obtain for each INPUT type\")\n",
    "print(np.array([ERROR4]))\n",
    "##############################\n",
    "##############################"
   ]
  },
  {
   "cell_type": "code",
   "execution_count": null,
   "metadata": {
    "id": "s9ZCOaw-fdge"
   },
   "outputs": [],
   "source": []
  },
  {
   "cell_type": "code",
   "execution_count": null,
   "metadata": {
    "id": "l0f-iIW2feD3"
   },
   "outputs": [],
   "source": []
  },
  {
   "cell_type": "code",
   "execution_count": null,
   "metadata": {
    "id": "c91GEPTmfega"
   },
   "outputs": [],
   "source": []
  },
  {
   "cell_type": "code",
   "execution_count": null,
   "metadata": {
    "id": "n7hmn3nzfe00"
   },
   "outputs": [],
   "source": []
  },
  {
   "cell_type": "code",
   "execution_count": null,
   "metadata": {
    "id": "hd0TOpPbffUn"
   },
   "outputs": [],
   "source": []
  },
  {
   "cell_type": "code",
   "execution_count": null,
   "metadata": {
    "id": "t-64rQVBffrv"
   },
   "outputs": [],
   "source": []
  }
 ],
 "metadata": {
  "colab": {
   "collapsed_sections": [],
   "name": "HOME_WORK_2_DEEP_LEARNING",
   "provenance": []
  },
  "kernelspec": {
   "display_name": "Python 3 (ipykernel)",
   "language": "python",
   "name": "python3"
  },
  "language_info": {
   "codemirror_mode": {
    "name": "ipython",
    "version": 3
   },
   "file_extension": ".py",
   "mimetype": "text/x-python",
   "name": "python",
   "nbconvert_exporter": "python",
   "pygments_lexer": "ipython3",
   "version": "3.9.5"
  }
 },
 "nbformat": 4,
 "nbformat_minor": 1
}
