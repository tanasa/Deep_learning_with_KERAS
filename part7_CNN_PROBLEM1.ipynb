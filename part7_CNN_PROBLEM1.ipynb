{
 "cells": [
  {
   "cell_type": "code",
   "execution_count": 58,
   "metadata": {
    "id": "hGOiivNLmNd2"
   },
   "outputs": [],
   "source": [
    "import numpy as np\n",
    "from scipy import signal as sg\n",
    "import tensorflow as tf\n",
    "import keras as ks"
   ]
  },
  {
   "cell_type": "code",
   "execution_count": null,
   "metadata": {
    "id": "Oa85nOZxoVk3"
   },
   "outputs": [],
   "source": []
  },
  {
   "cell_type": "code",
   "execution_count": 59,
   "metadata": {
    "id": "-wAXeWtyoWbA"
   },
   "outputs": [],
   "source": [
    "# the SOLUTION with SCIPY"
   ]
  },
  {
   "cell_type": "code",
   "execution_count": 60,
   "metadata": {
    "colab": {
     "base_uri": "https://localhost:8080/"
    },
    "id": "7ZGYq_VFnGg0",
    "outputId": "4d23f0c8-d89e-4cb8-9efa-de9c0580026c"
   },
   "outputs": [
    {
     "name": "stdout",
     "output_type": "stream",
     "text": [
      "(7, 7)\n"
     ]
    }
   ],
   "source": [
    "I = np.array([ [97,52,99,62,69,45,70], [99,14,60,50,74,45,22], [59,72,74,14,74,100,28], [28,2,47,85,2,88,77], [74,6,30,87,49,22,43], [86,87,4,53,36,10,46] , [54,7,67,23,29,26,5]], dtype=object)\n",
    "print(I.shape)\n"
   ]
  },
  {
   "cell_type": "code",
   "execution_count": 61,
   "metadata": {
    "colab": {
     "base_uri": "https://localhost:8080/"
    },
    "id": "yKXpjMmvnHHp",
    "outputId": "be7d5d42-acea-4952-f172-0a3db1aa9fad"
   },
   "outputs": [
    {
     "name": "stdout",
     "output_type": "stream",
     "text": [
      "(3, 3)\n"
     ]
    }
   ],
   "source": [
    "g = np.array([ [1,2,1], [2,4,2], [1,2,1] ],dtype=object)\n",
    "print(g.shape)"
   ]
  },
  {
   "cell_type": "code",
   "execution_count": 62,
   "metadata": {
    "colab": {
     "base_uri": "https://localhost:8080/"
    },
    "id": "xFhJCVqknHb5",
    "outputId": "e05d59b4-e6cd-46ee-acd2-61398701ba58"
   },
   "outputs": [
    {
     "data": {
      "text/plain": [
       "array([[97, 246, 300, 312, 292, 245, 229, 185, 70],\n",
       "       [293, 704, 787, 808, 818, 733, 644, 459, 162],\n",
       "       [354, 860, 951, 914, 936, 993, 903, 519, 142],\n",
       "       [245, 650, 820, 833, 805, 944, 1045, 643, 155],\n",
       "       [189, 460, 551, 749, 867, 823, 948, 748, 225],\n",
       "       [262, 625, 575, 635, 871, 726, 629, 560, 209],\n",
       "       [300, 787, 779, 613, 687, 584, 426, 348, 140],\n",
       "       [194, 489, 534, 476, 430, 349, 274, 174, 56],\n",
       "       [54, 115, 135, 164, 142, 107, 86, 36, 5]], dtype=object)"
      ]
     },
     "execution_count": 62,
     "metadata": {},
     "output_type": "execute_result"
    }
   ],
   "source": [
    "sg.convolve(I,g)"
   ]
  },
  {
   "cell_type": "code",
   "execution_count": 63,
   "metadata": {
    "colab": {
     "base_uri": "https://localhost:8080/"
    },
    "id": "LHB2KaZ_w5IS",
    "outputId": "204f7c3b-1118-4bd9-afe1-8ef59a9509f0"
   },
   "outputs": [
    {
     "data": {
      "text/plain": [
       "array([[97, 246, 300, 312, 292, 245, 229, 185, 70],\n",
       "       [293, 704, 787, 808, 818, 733, 644, 459, 162],\n",
       "       [354, 860, 951, 914, 936, 993, 903, 519, 142],\n",
       "       [245, 650, 820, 833, 805, 944, 1045, 643, 155],\n",
       "       [189, 460, 551, 749, 867, 823, 948, 748, 225],\n",
       "       [262, 625, 575, 635, 871, 726, 629, 560, 209],\n",
       "       [300, 787, 779, 613, 687, 584, 426, 348, 140],\n",
       "       [194, 489, 534, 476, 430, 349, 274, 174, 56],\n",
       "       [54, 115, 135, 164, 142, 107, 86, 36, 5]], dtype=object)"
      ]
     },
     "execution_count": 63,
     "metadata": {},
     "output_type": "execute_result"
    }
   ],
   "source": [
    "sg.convolve(I,g, mode=\"full\")"
   ]
  },
  {
   "cell_type": "code",
   "execution_count": 64,
   "metadata": {
    "colab": {
     "base_uri": "https://localhost:8080/"
    },
    "id": "xmZz9skcw5nq",
    "outputId": "98bb0fd7-9b82-431e-b7ef-adc3fcf10b03"
   },
   "outputs": [
    {
     "data": {
      "text/plain": [
       "array([[951, 914, 936, 993, 903],\n",
       "       [820, 833, 805, 944, 1045],\n",
       "       [551, 749, 867, 823, 948],\n",
       "       [575, 635, 871, 726, 629],\n",
       "       [779, 613, 687, 584, 426]], dtype=object)"
      ]
     },
     "execution_count": 64,
     "metadata": {},
     "output_type": "execute_result"
    }
   ],
   "source": [
    "sg.convolve(I,g, mode=\"valid\")"
   ]
  },
  {
   "cell_type": "code",
   "execution_count": null,
   "metadata": {
    "id": "Blh71htdnH0J"
   },
   "outputs": [],
   "source": []
  },
  {
   "cell_type": "code",
   "execution_count": 75,
   "metadata": {
    "id": "qyVCSPE0xg1h"
   },
   "outputs": [],
   "source": [
    "Itf = tf.convert_to_tensor(I.astype(float))\n",
    "Itf.shape\n",
    "ITF = tf.reshape(Itf, [1,7,7,1])\n",
    "# print(ITF)\n"
   ]
  },
  {
   "cell_type": "code",
   "execution_count": 76,
   "metadata": {
    "id": "5gWR13MjyYyl"
   },
   "outputs": [],
   "source": [
    "gtf = tf.convert_to_tensor(g.astype(float))\n",
    "gtf.shape\n",
    "GTF = tf.reshape(gtf, [3,3,1,1])\n",
    "# print(GTF)"
   ]
  },
  {
   "cell_type": "code",
   "execution_count": 79,
   "metadata": {
    "id": "ZKzu8a-7xhJF"
   },
   "outputs": [],
   "source": [
    "op1 = tf.nn.conv2d(ITF, GTF, strides = [1,1,1,1], padding = \"VALID\")\n",
    "op2 = tf.nn.conv2d(ITF, GTF, strides = [1,1,1,1], padding = \"SAME\")"
   ]
  },
  {
   "cell_type": "code",
   "execution_count": 90,
   "metadata": {
    "colab": {
     "base_uri": "https://localhost:8080/"
    },
    "id": "hg3JZablvB8w",
    "outputId": "ac2d20e3-d189-4543-ee98-5edffda01fcb"
   },
   "outputs": [
    {
     "name": "stdout",
     "output_type": "stream",
     "text": [
      "[[[[951.]\n",
      "   [914.]\n",
      "   [936.]\n",
      "   [993.]\n",
      "   [903.]]]]\n"
     ]
    }
   ],
   "source": [
    "print(op1.numpy()[:1,:1])"
   ]
  },
  {
   "cell_type": "code",
   "execution_count": 91,
   "metadata": {
    "colab": {
     "base_uri": "https://localhost:8080/"
    },
    "id": "yJfOkyjNvCSi",
    "outputId": "238789b4-2d37-4d0f-d036-c6a5a7c5b25c"
   },
   "outputs": [
    {
     "name": "stdout",
     "output_type": "stream",
     "text": [
      "[[[[704.]\n",
      "   [787.]\n",
      "   [808.]\n",
      "   [818.]\n",
      "   [733.]\n",
      "   [644.]\n",
      "   [459.]]]]\n"
     ]
    }
   ],
   "source": [
    "print(op2.numpy()[:1,:1])"
   ]
  },
  {
   "cell_type": "code",
   "execution_count": null,
   "metadata": {
    "id": "C6KUz0tsvCmB"
   },
   "outputs": [],
   "source": []
  }
 ],
 "metadata": {
  "colab": {
   "collapsed_sections": [],
   "name": "PROBLEM1.ipynb",
   "provenance": []
  },
  "kernelspec": {
   "display_name": "Python 3 (ipykernel)",
   "language": "python",
   "name": "python3"
  },
  "language_info": {
   "codemirror_mode": {
    "name": "ipython",
    "version": 3
   },
   "file_extension": ".py",
   "mimetype": "text/x-python",
   "name": "python",
   "nbconvert_exporter": "python",
   "pygments_lexer": "ipython3",
   "version": "3.9.5"
  }
 },
 "nbformat": 4,
 "nbformat_minor": 1
}
