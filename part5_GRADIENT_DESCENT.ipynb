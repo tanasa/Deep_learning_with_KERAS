{
 "cells": [
  {
   "cell_type": "code",
   "execution_count": 245,
   "metadata": {
    "id": "BrEO2vwSOkVL"
   },
   "outputs": [],
   "source": [
    "import numpy as np\n",
    "import pandas as pd\n",
    "from sklearn import datasets\n",
    "from sklearn.model_selection import train_test_split\n",
    "from sklearn import preprocessing\n",
    "from sklearn.metrics import confusion_matrix, accuracy_score\n",
    "import keras as keras\n",
    "import math\n",
    "from keras.models import Sequential\n",
    "from keras.layers import Dense, Activation\n",
    "from datascience import *\n",
    "import matplotlib.pyplot as plt\n",
    "from sklearn.model_selection import train_test_split\n",
    "%matplotlib inline"
   ]
  },
  {
   "cell_type": "code",
   "execution_count": 246,
   "metadata": {
    "id": "e87DEZzfoqRG"
   },
   "outputs": [],
   "source": [
    "def z(x,y) : \n",
    "    z = -1 * math.sqrt(25 - (x-2)**2 - (y-3)**2)\n",
    "    return(z)"
   ]
  },
  {
   "cell_type": "code",
   "execution_count": 247,
   "metadata": {
    "id": "Z-lXQTdjorY5"
   },
   "outputs": [],
   "source": [
    "def dz_dx(x,y) : \n",
    "    res = (x-2) / math.sqrt(25 - (x-2)**2 - (y-3)**2)\n",
    "    return(res)"
   ]
  },
  {
   "cell_type": "code",
   "execution_count": 248,
   "metadata": {
    "id": "lco9ktGu1ier"
   },
   "outputs": [],
   "source": [
    "def dz_dy(x,y) : \n",
    "    res = (y-3) / math.sqrt(25 - (x-2)**2 - (y-3)**2)\n",
    "    return(res)"
   ]
  },
  {
   "cell_type": "code",
   "execution_count": 249,
   "metadata": {
    "id": "QXVmVrUf2RTZ"
   },
   "outputs": [],
   "source": [
    "#print(z(1,1))\n",
    "#print(dz_dx(1,1))\n",
    "#print(dz_dy(1,1))"
   ]
  },
  {
   "cell_type": "code",
   "execution_count": 250,
   "metadata": {
    "id": "KgiJ5ghO3ow8"
   },
   "outputs": [],
   "source": [
    "maxLimit = 5000\n",
    "xHistory = np.tile(np.float32(0), maxLimit)\n",
    "yHistory = np.tile(np.float32(0), maxLimit)"
   ]
  },
  {
   "cell_type": "code",
   "execution_count": 252,
   "metadata": {
    "id": "Tnr5CmxSxb0a"
   },
   "outputs": [],
   "source": [
    "learning_rate = 0.01\n",
    "xStart = 0.3\n",
    "yStart = 0.3"
   ]
  },
  {
   "cell_type": "code",
   "execution_count": 253,
   "metadata": {
    "id": "nHJpULAjPAh5"
   },
   "outputs": [],
   "source": [
    "for i in range(1,maxLimit):\n",
    "      xHistory[i] = xStart\n",
    "      yHistory[i] = yStart\n",
    "\n",
    "      deltaW = dz_dx(xStart, yStart)\n",
    "      deltaB = dz_dy(xStart, yStart) \n",
    "\n",
    "      xStart = xStart - learning_rate * deltaW \n",
    "      yStart = yStart - learning_rate * deltaB"
   ]
  },
  {
   "cell_type": "code",
   "execution_count": 254,
   "metadata": {
    "colab": {
     "base_uri": "https://localhost:8080/",
     "height": 283
    },
    "id": "bnP1zIV3zN39",
    "outputId": "9e2575ec-3333-4f8b-ad89-0abb9f97ca01"
   },
   "outputs": [
    {
     "data": {
      "text/plain": [
       "[<matplotlib.lines.Line2D at 0x7f0e8f385f50>]"
      ]
     },
     "execution_count": 254,
     "metadata": {},
     "output_type": "execute_result"
    },
    {
     "data": {
      "image/png": "[encoded data removed]",
      "text/plain": [
       "<Figure size 432x288 with 1 Axes>"
      ]
     },
     "metadata": {
      "needs_background": "light"
     },
     "output_type": "display_data"
    }
   ],
   "source": [
    "fig = plt.figure()\n",
    "ax = plt.axes()\n",
    "\n",
    "ax.plot(xHistory)\n",
    "ax.plot(yHistory)\n"
   ]
  },
  {
   "cell_type": "code",
   "execution_count": 118,
   "metadata": {
    "id": "mMmtV6dGPBBJ"
   },
   "outputs": [],
   "source": []
  },
  {
   "cell_type": "code",
   "execution_count": null,
   "metadata": {
    "id": "5YcxuB0HSgyY"
   },
   "outputs": [],
   "source": []
  },
  {
   "cell_type": "code",
   "execution_count": null,
   "metadata": {
    "id": "5DHrlwLqShT0"
   },
   "outputs": [],
   "source": []
  },
  {
   "cell_type": "code",
   "execution_count": 218,
   "metadata": {
    "id": "w30dBJ0No6DE"
   },
   "outputs": [],
   "source": [
    "def dz_dx(x1,y1) : \n",
    "    z1 = 2 * x1 - 2.0\n",
    "    return z1\n",
    "\n",
    "def dz_dy(x1, y1) : \n",
    "   z1 = 2 * y1 - 6.0 \n",
    "   return z1 \n",
    "\n",
    "xStart = 0.1 \n",
    "yStart = 2.0\n",
    "learningRate = 0.01\n",
    "maxLimit = 500\n",
    "\n",
    "xHistory = np.tile(np.float32(0), maxLimit)\n",
    "yHistory = np.tile(np.float32(0), maxLimit)\n",
    "\n",
    "\n",
    "for i in range(1,maxLimit):\n",
    "    \n",
    "    xHistory[i] = xStart\n",
    "    yHistory[i] = yStart\n",
    "\n",
    "    dW = dz_dx(xStart,yStart)\n",
    "    db = dz_dy(xStart,yStart)\n",
    "    \n",
    "    xStart = xStart - learningRate * dW\n",
    "    yStart = yStart - learningRate * db\n",
    "\n"
   ]
  },
  {
   "cell_type": "code",
   "execution_count": 219,
   "metadata": {
    "colab": {
     "base_uri": "https://localhost:8080/",
     "height": 283
    },
    "id": "KIWYtk9J9pCI",
    "outputId": "c62a680b-31bd-4e24-af35-db4c299487a3"
   },
   "outputs": [
    {
     "data": {
      "text/plain": [
       "[<matplotlib.lines.Line2D at 0x7f0e8f5287d0>]"
      ]
     },
     "execution_count": 219,
     "metadata": {},
     "output_type": "execute_result"
    },
    {
     "data": {
      "image/png": "[encoded data removed]",
      "text/plain": [
       "<Figure size 432x288 with 1 Axes>"
      ]
     },
     "metadata": {
      "needs_background": "light"
     },
     "output_type": "display_data"
    }
   ],
   "source": [
    "fig = plt.figure()\n",
    "ax = plt.axes()\n",
    "\n",
    "ax.plot(xHistory)\n",
    "ax.plot(yHistory)"
   ]
  },
  {
   "cell_type": "code",
   "execution_count": 148,
   "metadata": {
    "id": "AtTzTrJzPBrF"
   },
   "outputs": [],
   "source": [
    "\n",
    "\n"
   ]
  },
  {
   "cell_type": "code",
   "execution_count": 118,
   "metadata": {
    "id": "C2HCdnmtPB-p"
   },
   "outputs": [],
   "source": []
  },
  {
   "cell_type": "code",
   "execution_count": 119,
   "metadata": {
    "id": "c_uHe23ZPCVS"
   },
   "outputs": [],
   "source": [
    "#"
   ]
  }
 ],
 "metadata": {
  "colab": {
   "collapsed_sections": [],
   "name": "HW5_v5.ipynb",
   "provenance": []
  },
  "kernelspec": {
   "display_name": "Python 3 (ipykernel)",
   "language": "python",
   "name": "python3"
  },
  "language_info": {
   "codemirror_mode": {
    "name": "ipython",
    "version": 3
   },
   "file_extension": ".py",
   "mimetype": "text/x-python",
   "name": "python",
   "nbconvert_exporter": "python",
   "pygments_lexer": "ipython3",
   "version": "3.9.5"
  }
 },
 "nbformat": 4,
 "nbformat_minor": 1
}
